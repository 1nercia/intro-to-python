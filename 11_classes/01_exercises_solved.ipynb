{
 "cells": [
  {
   "cell_type": "markdown",
   "metadata": {},
   "source": [
    "**Note**: Click on \"*Kernel*\" > \"*Restart Kernel and Run All*\" in [JupyterLab](https://jupyterlab.readthedocs.io/en/stable/) *after* finishing the exercises to ensure that your solution runs top to bottom *without* any errors. If you cannot run this file on your machine, you may want to open it [in the cloud <img height=\"12\" style=\"display: inline-block\" src=\"../static/link/to_mb.png\">](https://mybinder.org/v2/gh/webartifex/intro-to-python/develop?urlpath=lab/tree/11_classes/01_exercises.ipynb)."
   ]
  },
  {
   "cell_type": "markdown",
   "metadata": {},
   "source": [
    "# Chapter 11: Classes & Instances (Coding Exercises)"
   ]
  },
  {
   "cell_type": "markdown",
   "metadata": {},
   "source": [
    "The exercises below assume that you have read the [first part <img height=\"12\" style=\"display: inline-block\" src=\"../static/link/to_nb.png\">](https://nbviewer.jupyter.org/github/webartifex/intro-to-python/blob/develop/11_classes/00_content.ipynb) of Chapter 11.\n",
    "\n",
    "The `...`'s in the code cells indicate where you need to fill in code snippets. The number of `...`'s within a code cell give you a rough idea of how many lines of code are needed to solve the task. You should not need to create any additional code cells for your final solution. However, you may want to use temporary code cells to try out some ideas."
   ]
  },
  {
   "cell_type": "markdown",
   "metadata": {},
   "source": [
    "## Berlin Tourist Guide: A Traveling Salesman Problem"
   ]
  },
  {
   "cell_type": "markdown",
   "metadata": {},
   "source": [
    "This notebook is a hands-on and tutorial-like application to show how to load data from web services like [Google Maps](https://developers.google.com/maps) and use them to solve a logistics problem, namely a **[Traveling Salesman Problem <img height=\"12\" style=\"display: inline-block\" src=\"../static/link/to_wiki.png\">](https://en.wikipedia.org/wiki/Traveling_salesman_problem)**.\n",
    "\n",
    "Imagine that a tourist lands at Berlin's [Tegel Airport <img height=\"12\" style=\"display: inline-block\" src=\"../static/link/to_wiki.png\">](https://en.wikipedia.org/wiki/Berlin_Tegel_Airport) in the morning and has his \"connecting\" flight from [Schönefeld Airport <img height=\"12\" style=\"display: inline-block\" src=\"../static/link/to_wiki.png\">](https://en.wikipedia.org/wiki/Berlin_Sch%C3%B6nefeld_Airport) in the evening. By the time, the flights were scheduled, the airline thought that there would be only one airport in Berlin.\n",
    "\n",
    "Having never been in Berlin before, the tourist wants to come up with a plan of sights that he can visit with a rental car on his way from Tegel to Schönefeld.\n",
    "\n",
    "With a bit of research, he creates a `list` of `sights` like below."
   ]
  },
  {
   "cell_type": "code",
   "execution_count": 1,
   "metadata": {},
   "outputs": [],
   "source": [
    "arrival = \"Berlin Tegel Airport (TXL), Berlin\"\n",
    "\n",
    "sights = [\n",
    "    \"Alexanderplatz, Berlin\",\n",
    "    \"Brandenburger Tor, Pariser Platz, Berlin\",\n",
    "    \"Checkpoint Charlie, Friedrichstraße, Berlin\",\n",
    "    \"Kottbusser Tor, Berlin\",\n",
    "    \"Mauerpark, Berlin\",\n",
    "    \"Siegessäule, Berlin\",\n",
    "    \"Reichstag, Platz der Republik, Berlin\",\n",
    "    \"Soho House Berlin, Torstraße, Berlin\",\n",
    "    \"Tempelhofer Feld, Berlin\",\n",
    "]\n",
    "\n",
    "departure = \"Berlin Schönefeld Airport (SXF), Berlin\""
   ]
  },
  {
   "cell_type": "markdown",
   "metadata": {},
   "source": [
    "With just the street addresses, however, he cannot calculate a route. He needs `latitude`-`longitude` coordinates instead. While he could just open a site like [Google Maps](https://www.google.com/maps) in a web browser, he wonders if he can download the data with a bit of Python code using a [web API <img height=\"12\" style=\"display: inline-block\" src=\"../static/link/to_wiki.png\">](https://en.wikipedia.org/wiki/Web_API) offered by [Google](https://www.google.com).\n",
    "\n",
    "So, in this notebook, we solve the entire problem with code."
   ]
  },
  {
   "cell_type": "markdown",
   "metadata": {},
   "source": [
    "## Geocoding"
   ]
  },
  {
   "cell_type": "markdown",
   "metadata": {},
   "source": [
    "In order to obtain coordinates for the given street addresses above, a process called **geocoding**, we use the [Google Maps Geocoding API](https://developers.google.com/maps/documentation/geocoding/start).\n",
    "\n",
    "**Q1**: Familiarize yourself with this [documentation](https://developers.google.com/maps/documentation/geocoding/start), register a developer account, create a project, and [create an API key](https://console.cloud.google.com/apis/credentials) that is necessary for everything to work! Then, [enable the Geocoding API](https://console.developers.google.com/apis/library/geocoding-backend.googleapis.com) and link a [billing account](https://console.developers.google.com/billing)!\n",
    "\n",
    "Info: The first 200 Dollars per month are not charged (cf., [pricing page](https://cloud.google.com/maps-platform/pricing/)), so no costs will incur for this tutorial. You must sign up because Google simply wants to know the people using its services.\n",
    "\n",
    "**Q2**: Assign the API key as a `str` object to the `key` variable!"
   ]
  },
  {
   "cell_type": "code",
   "execution_count": 2,
   "metadata": {},
   "outputs": [],
   "source": [
    "key = \" < your API key goes here > \""
   ]
  },
  {
   "cell_type": "markdown",
   "metadata": {},
   "source": [
    "To use external web services, our application needs to make HTTP requests just like web browsers do when surfing the web.\n",
    "\n",
    "We do not have to implement this on our own. Instead, we use the official Python Client for the Google Maps Services provided by Google in one of its corporate [GitHub repositories <img height=\"12\" style=\"display: inline-block\" src=\"../static/link/to_gh.png\">](https://github.com/googlemaps).\n",
    "\n",
    "**Q3**: Familiarize yourself with the [googlemaps <img height=\"12\" style=\"display: inline-block\" src=\"../static/link/to_gh.png\">](https://github.com/googlemaps/google-maps-services-python) package! Then, install it with the `pip` command line tool!"
   ]
  },
  {
   "cell_type": "code",
   "execution_count": 3,
   "metadata": {},
   "outputs": [
    {
     "name": "stdout",
     "output_type": "stream",
     "text": [
      "Requirement already satisfied: googlemaps in /home/webartifex/repos/intro-to-python/.venv/lib/python3.8/site-packages (4.4.2)\n",
      "Requirement already satisfied: requests<3.0,>=2.20.0 in /home/webartifex/repos/intro-to-python/.venv/lib/python3.8/site-packages (from googlemaps) (2.24.0)\n",
      "Requirement already satisfied: idna<3,>=2.5 in /home/webartifex/repos/intro-to-python/.venv/lib/python3.8/site-packages (from requests<3.0,>=2.20.0->googlemaps) (2.10)\n",
      "Requirement already satisfied: urllib3!=1.25.0,!=1.25.1,<1.26,>=1.21.1 in /home/webartifex/repos/intro-to-python/.venv/lib/python3.8/site-packages (from requests<3.0,>=2.20.0->googlemaps) (1.25.11)\n",
      "Requirement already satisfied: certifi>=2017.4.17 in /home/webartifex/repos/intro-to-python/.venv/lib/python3.8/site-packages (from requests<3.0,>=2.20.0->googlemaps) (2020.6.20)\n",
      "Requirement already satisfied: chardet<4,>=3.0.2 in /home/webartifex/repos/intro-to-python/.venv/lib/python3.8/site-packages (from requests<3.0,>=2.20.0->googlemaps) (3.0.4)\n"
     ]
    }
   ],
   "source": [
    "!pip install googlemaps"
   ]
  },
  {
   "cell_type": "markdown",
   "metadata": {},
   "source": [
    "**Q4**: Finish the following code cells and instantiate a `Client` object named `api`! Use the `key` from above. `api` provides us with a lot of methods to talk to the API."
   ]
  },
  {
   "cell_type": "code",
   "execution_count": 4,
   "metadata": {},
   "outputs": [],
   "source": [
    "import googlemaps"
   ]
  },
  {
   "cell_type": "code",
   "execution_count": 5,
   "metadata": {},
   "outputs": [],
   "source": [
    "api = googlemaps.Client(key=key)"
   ]
  },
  {
   "cell_type": "code",
   "execution_count": 6,
   "metadata": {},
   "outputs": [
    {
     "data": {
      "text/plain": [
       "<googlemaps.client.Client at 0x7f2c58434490>"
      ]
     },
     "execution_count": 6,
     "metadata": {},
     "output_type": "execute_result"
    }
   ],
   "source": [
    "api"
   ]
  },
  {
   "cell_type": "code",
   "execution_count": 7,
   "metadata": {},
   "outputs": [
    {
     "data": {
      "text/plain": [
       "googlemaps.client.Client"
      ]
     },
     "execution_count": 7,
     "metadata": {},
     "output_type": "execute_result"
    }
   ],
   "source": [
    "type(api)"
   ]
  },
  {
   "cell_type": "markdown",
   "metadata": {},
   "source": [
    "**Q5**: Execute the next code cell to list the methods and attributes on the `api` object!"
   ]
  },
  {
   "cell_type": "code",
   "execution_count": 8,
   "metadata": {},
   "outputs": [
    {
     "data": {
      "text/plain": [
       "['base_url',\n",
       " 'channel',\n",
       " 'clear_experience_id',\n",
       " 'client_id',\n",
       " 'client_secret',\n",
       " 'directions',\n",
       " 'distance_matrix',\n",
       " 'elevation',\n",
       " 'elevation_along_path',\n",
       " 'find_place',\n",
       " 'geocode',\n",
       " 'geolocate',\n",
       " 'get_experience_id',\n",
       " 'key',\n",
       " 'nearest_roads',\n",
       " 'place',\n",
       " 'places',\n",
       " 'places_autocomplete',\n",
       " 'places_autocomplete_query',\n",
       " 'places_nearby',\n",
       " 'places_photo',\n",
       " 'queries_per_second',\n",
       " 'requests_kwargs',\n",
       " 'retry_over_query_limit',\n",
       " 'retry_timeout',\n",
       " 'reverse_geocode',\n",
       " 'sent_times',\n",
       " 'session',\n",
       " 'set_experience_id',\n",
       " 'snap_to_roads',\n",
       " 'snapped_speed_limits',\n",
       " 'speed_limits',\n",
       " 'static_map',\n",
       " 'timeout',\n",
       " 'timezone']"
      ]
     },
     "execution_count": 8,
     "metadata": {},
     "output_type": "execute_result"
    }
   ],
   "source": [
    "[x for x in dir(api) if not x.startswith(\"_\")]"
   ]
  },
  {
   "cell_type": "markdown",
   "metadata": {},
   "source": [
    "To obtain all kinds of information associated with a street address, we call the `geocode()` method with the address as the sole argument.\n",
    "\n",
    "For example, let's search for Brandenburg Gate. Its street address is `\"Brandenburger Tor, Pariser Platz, Berlin\"`.\n",
    "\n",
    "**Q6**: Execute the next code cell!\n",
    "\n",
    "Hint: If you get an error message, follow the instructions in it to debug it.\n",
    "\n",
    "If everything works, we receive a `list` with a single `dict` in it. That means the [Google Maps Geocoding API](https://developers.google.com/maps/documentation/geocoding/start) only knows about one place at the address. Unfortunately, the `dict` is pretty dense and hard to read."
   ]
  },
  {
   "cell_type": "code",
   "execution_count": 9,
   "metadata": {},
   "outputs": [
    {
     "data": {
      "text/plain": [
       "[{'address_components': [{'long_name': 'Pariser Platz',\n",
       "    'short_name': 'Pariser Platz',\n",
       "    'types': ['route']},\n",
       "   {'long_name': 'Mitte',\n",
       "    'short_name': 'Mitte',\n",
       "    'types': ['political', 'sublocality', 'sublocality_level_1']},\n",
       "   {'long_name': 'Berlin',\n",
       "    'short_name': 'Berlin',\n",
       "    'types': ['locality', 'political']},\n",
       "   {'long_name': 'Berlin',\n",
       "    'short_name': 'Berlin',\n",
       "    'types': ['administrative_area_level_1', 'political']},\n",
       "   {'long_name': 'Germany',\n",
       "    'short_name': 'DE',\n",
       "    'types': ['country', 'political']},\n",
       "   {'long_name': '10117', 'short_name': '10117', 'types': ['postal_code']}],\n",
       "  'formatted_address': 'Pariser Platz, 10117 Berlin, Germany',\n",
       "  'geometry': {'location': {'lat': 52.5162746, 'lng': 13.3777041},\n",
       "   'location_type': 'GEOMETRIC_CENTER',\n",
       "   'viewport': {'northeast': {'lat': 52.51762358029149,\n",
       "     'lng': 13.3790530802915},\n",
       "    'southwest': {'lat': 52.5149256197085, 'lng': 13.3763551197085}}},\n",
       "  'place_id': 'ChIJiQnyVcZRqEcRY0xnhE77uyY',\n",
       "  'plus_code': {'compound_code': 'G98H+G3 Berlin, Germany',\n",
       "   'global_code': '9F4MG98H+G3'},\n",
       "  'types': ['establishment', 'point_of_interest', 'tourist_attraction']}]"
      ]
     },
     "execution_count": 9,
     "metadata": {},
     "output_type": "execute_result"
    }
   ],
   "source": [
    "api.geocode(\"Brandenburger Tor, Pariser Platz, Berlin\")"
   ]
  },
  {
   "cell_type": "markdown",
   "metadata": {},
   "source": [
    "**Q7**: Capture the first and only search result in the `brandenburg_gate` variable and \"pretty print\" it with the help of the [pprint() <img height=\"12\" style=\"display: inline-block\" src=\"../static/link/to_py.png\">](https://docs.python.org/3/library/pprint.html#pprint.pprint) function in the [pprint <img height=\"12\" style=\"display: inline-block\" src=\"../static/link/to_py.png\">](https://docs.python.org/3/library/pprint.html) module in the [standard library <img height=\"12\" style=\"display: inline-block\" src=\"../static/link/to_py.png\">](https://docs.python.org/3/library/index.html)!"
   ]
  },
  {
   "cell_type": "code",
   "execution_count": 10,
   "metadata": {},
   "outputs": [],
   "source": [
    "response = api.geocode(\"Brandenburger Tor, Pariser Platz, Berlin\")"
   ]
  },
  {
   "cell_type": "code",
   "execution_count": 11,
   "metadata": {},
   "outputs": [],
   "source": [
    "brandenburg_gate = response[0]"
   ]
  },
  {
   "cell_type": "markdown",
   "metadata": {},
   "source": [
    "The `dict` has several keys that are of use for us: `\"formatted_address\"` is a cleanly formatted version of the address. `\"geometry\"` is a nested `dict` with several `lat`-`lng` coordinates representing the place where `\"location\"` is the one we need for our calculations. Lastly, `\"place_id\"` is a unique identifier that allows us to obtain further information about the address from other Google APIs."
   ]
  },
  {
   "cell_type": "code",
   "execution_count": 12,
   "metadata": {},
   "outputs": [],
   "source": [
    "from pprint import pprint"
   ]
  },
  {
   "cell_type": "code",
   "execution_count": 13,
   "metadata": {},
   "outputs": [
    {
     "name": "stdout",
     "output_type": "stream",
     "text": [
      "{'address_components': [{'long_name': 'Pariser Platz',\n",
      "                         'short_name': 'Pariser Platz',\n",
      "                         'types': ['route']},\n",
      "                        {'long_name': 'Mitte',\n",
      "                         'short_name': 'Mitte',\n",
      "                         'types': ['political',\n",
      "                                   'sublocality',\n",
      "                                   'sublocality_level_1']},\n",
      "                        {'long_name': 'Berlin',\n",
      "                         'short_name': 'Berlin',\n",
      "                         'types': ['locality', 'political']},\n",
      "                        {'long_name': 'Berlin',\n",
      "                         'short_name': 'Berlin',\n",
      "                         'types': ['administrative_area_level_1', 'political']},\n",
      "                        {'long_name': 'Germany',\n",
      "                         'short_name': 'DE',\n",
      "                         'types': ['country', 'political']},\n",
      "                        {'long_name': '10117',\n",
      "                         'short_name': '10117',\n",
      "                         'types': ['postal_code']}],\n",
      " 'formatted_address': 'Pariser Platz, 10117 Berlin, Germany',\n",
      " 'geometry': {'location': {'lat': 52.5162746, 'lng': 13.3777041},\n",
      "              'location_type': 'GEOMETRIC_CENTER',\n",
      "              'viewport': {'northeast': {'lat': 52.51762358029149,\n",
      "                                         'lng': 13.3790530802915},\n",
      "                           'southwest': {'lat': 52.5149256197085,\n",
      "                                         'lng': 13.3763551197085}}},\n",
      " 'place_id': 'ChIJiQnyVcZRqEcRY0xnhE77uyY',\n",
      " 'plus_code': {'compound_code': 'G98H+G3 Berlin, Germany',\n",
      "               'global_code': '9F4MG98H+G3'},\n",
      " 'types': ['establishment', 'point_of_interest', 'tourist_attraction']}\n"
     ]
    }
   ],
   "source": [
    "pprint(brandenburg_gate)"
   ]
  },
  {
   "cell_type": "markdown",
   "metadata": {},
   "source": [
    "### The `Place` Class"
   ]
  },
  {
   "cell_type": "markdown",
   "metadata": {},
   "source": [
    "To keep our code readable and maintainable, we create a `Place` class to manage the API results in a clean way.\n",
    "\n",
    "The `.__init__()` method takes a `street_address` (e.g., an element of `sights`) and a `client` argument (e.g., an object like `api`) and stores them on `self`. The place's `.name` is parsed out of the `street_address` as well: It is the part before the first comma. Also, the instance attributes `.latitude`, `.longitude`, and `.place_id` are initialized to `None`.\n",
    "\n",
    "**Q8**: Finish the `.__init__()` method according to the description!\n",
    "\n",
    "The `.sync_from_google()` method uses the internally kept `client` and synchronizes the place's state with the [Google Maps Geocoding API](https://developers.google.com/maps/documentation/geocoding/start). In particular, it updates the `.address` with the `formatted_address` and stores the values for `.latitude`, `.longitude`, and `.place_id`. It enables method chaining.\n",
    "\n",
    "**Q9**: Implement the `.sync_from_google()` method according to the description!\n",
    "\n",
    "**Q10**: Add a read-only `.location` property on the `Place` class that returns the `.latitude` and `.longitude` as a `tuple`!"
   ]
  },
  {
   "cell_type": "code",
   "execution_count": 14,
   "metadata": {},
   "outputs": [],
   "source": [
    "class Place:\n",
    "    \"\"\"A place connected to the Google Maps Geocoding API.\"\"\"\n",
    "\n",
    "    # answer to Q8\n",
    "    def __init__(self, street_address, *, client):\n",
    "        \"\"\"Create a new place.\n",
    "\n",
    "        Args:\n",
    "            street_address (str): street address of the place\n",
    "            client (googlemaps.Client): access to the Google Maps Geocoding API\n",
    "        \"\"\"\n",
    "        self.name = street_address.split(\",\")[0]\n",
    "        self.address = street_address\n",
    "        self.client = client\n",
    "        self.latitude = None\n",
    "        self.longitude = None\n",
    "        self.place_id = None\n",
    "\n",
    "    def __repr__(self):\n",
    "        cls, name = self.__class__.__name__, self.name\n",
    "        synced = \" [SYNCED]\" if self.place_id else \"\"\n",
    "        return f\"<{cls}: {name}{synced}>\"\n",
    "\n",
    "    # answer to Q9\n",
    "    def sync_from_google(self):\n",
    "        \"\"\"Download the place's coordinates and other info.\"\"\"\n",
    "        response = self.client.geocode(self.address)\n",
    "        first_hit = response[0]\n",
    "        self.address = first_hit[\"formatted_address\"]\n",
    "        self.latitude = first_hit[\"geometry\"][\"location\"][\"lat\"]\n",
    "        self.longitude = first_hit[\"geometry\"][\"location\"][\"lng\"]\n",
    "        self.place_id = first_hit[\"place_id\"]\n",
    "        return self\n",
    "\n",
    "    # answer to Q10\n",
    "    @property\n",
    "    def location(self):\n",
    "        return self.latitude, self.longitude"
   ]
  },
  {
   "cell_type": "markdown",
   "metadata": {},
   "source": [
    "**Q11**: Verify that the instantiating a `Place` object works!"
   ]
  },
  {
   "cell_type": "code",
   "execution_count": 15,
   "metadata": {},
   "outputs": [],
   "source": [
    "brandenburg_gate = Place(\"Brandenburger Tor, Pariser Platz, Berlin\", client=api)"
   ]
  },
  {
   "cell_type": "code",
   "execution_count": 16,
   "metadata": {},
   "outputs": [
    {
     "data": {
      "text/plain": [
       "<Place: Brandenburger Tor>"
      ]
     },
     "execution_count": 16,
     "metadata": {},
     "output_type": "execute_result"
    }
   ],
   "source": [
    "brandenburg_gate"
   ]
  },
  {
   "cell_type": "markdown",
   "metadata": {},
   "source": [
    "**Q12**: What do the angle brackets `<` and `>` mean in the text representation?"
   ]
  },
  {
   "cell_type": "markdown",
   "metadata": {},
   "source": [
    " < your answer >"
   ]
  },
  {
   "cell_type": "markdown",
   "metadata": {},
   "source": [
    "Now, we can obtain the geo-data from the [Google Maps Geocoding API](https://developers.google.com/maps/documentation/geocoding/start) in a clean way. As we enabled method chaining for `.sync_from_google()`, we get back the instance after calling the method.\n",
    "\n",
    "**Q13**: Verify that the `.sync_from_google()` method works!"
   ]
  },
  {
   "cell_type": "code",
   "execution_count": 17,
   "metadata": {},
   "outputs": [
    {
     "data": {
      "text/plain": [
       "<Place: Brandenburger Tor [SYNCED]>"
      ]
     },
     "execution_count": 17,
     "metadata": {},
     "output_type": "execute_result"
    }
   ],
   "source": [
    "brandenburg_gate.sync_from_google()"
   ]
  },
  {
   "cell_type": "code",
   "execution_count": 18,
   "metadata": {},
   "outputs": [
    {
     "data": {
      "text/plain": [
       "'Pariser Platz, 10117 Berlin, Germany'"
      ]
     },
     "execution_count": 18,
     "metadata": {},
     "output_type": "execute_result"
    }
   ],
   "source": [
    "brandenburg_gate.address"
   ]
  },
  {
   "cell_type": "code",
   "execution_count": 19,
   "metadata": {},
   "outputs": [
    {
     "data": {
      "text/plain": [
       "'ChIJiQnyVcZRqEcRY0xnhE77uyY'"
      ]
     },
     "execution_count": 19,
     "metadata": {},
     "output_type": "execute_result"
    }
   ],
   "source": [
    "brandenburg_gate.place_id"
   ]
  },
  {
   "cell_type": "code",
   "execution_count": 20,
   "metadata": {},
   "outputs": [
    {
     "data": {
      "text/plain": [
       "(52.5162746, 13.3777041)"
      ]
     },
     "execution_count": 20,
     "metadata": {},
     "output_type": "execute_result"
    }
   ],
   "source": [
    "brandenburg_gate.location"
   ]
  },
  {
   "cell_type": "markdown",
   "metadata": {},
   "source": [
    "### The `Place` Class (continued): Batch  Synchronization"
   ]
  },
  {
   "cell_type": "markdown",
   "metadata": {},
   "source": [
    "**Q14**: Add an alternative constructor method named `.from_addresses()` that takes an `addresses`, a `client`, and a `sync` argument! `addresses` is a finite iterable of `str` objects (e.g., like `sights`). The method returns a `list` of `Place`s, one for each `str` in `addresses`. All `Place`s are initialized with the same `client`. `sync` is a flag and defaults to `False`. If it is set to `True`, the alternative constructor invokes the `.sync_from_google()` method on the `Place`s before returning them."
   ]
  },
  {
   "cell_type": "code",
   "execution_count": 21,
   "metadata": {
    "code_folding": []
   },
   "outputs": [],
   "source": [
    "class Place:\n",
    "    \"\"\"A place connected to the Google Maps Geocoding API.\"\"\"\n",
    "\n",
    "    # answers from above\n",
    "    def __init__(self, street_address, *, client):\n",
    "        \"\"\"Create a new place.\n",
    "\n",
    "        Args:\n",
    "            street_address (str): street address of the place\n",
    "            client (googlemaps.Client): access to the Google Maps Geocoding API\n",
    "        \"\"\"\n",
    "        self.name = street_address.split(\",\")[0]\n",
    "        self.address = street_address\n",
    "        self.client = client\n",
    "        self.latitude = None\n",
    "        self.longitude = None\n",
    "        self.place_id = None\n",
    "\n",
    "    def __repr__(self):\n",
    "        cls, name = self.__class__.__name__, self.name\n",
    "        synced = \" [SYNCED]\" if self.place_id else \"\"\n",
    "        return f\"<{cls}: {name}{synced}>\"\n",
    "\n",
    "    def sync_from_google(self):\n",
    "        \"\"\"Download the place's coordinates and other info.\"\"\"\n",
    "        response = self.client.geocode(self.address)\n",
    "        first_hit = response[0]\n",
    "        self.address = first_hit[\"formatted_address\"]\n",
    "        self.latitude = first_hit[\"geometry\"][\"location\"][\"lat\"]\n",
    "        self.longitude = first_hit[\"geometry\"][\"location\"][\"lng\"]\n",
    "        self.place_id = first_hit[\"place_id\"]\n",
    "        return self\n",
    "\n",
    "    @property\n",
    "    def location(self):\n",
    "        return self.latitude, self.longitude\n",
    "\n",
    "    # answer to Q14\n",
    "    @classmethod\n",
    "    def from_addresses(cls, addresses, *, client, sync=False):\n",
    "        \"\"\"Create new places in a batch.\n",
    "\n",
    "        Args:\n",
    "            addresses (iterable of str's): the street addresses of the places\n",
    "            client (googlemaps.Client): access to the Google Maps Geocoding API\n",
    "        Returns:\n",
    "            list of Places\n",
    "        \"\"\"\n",
    "        places = []\n",
    "        for address in addresses:\n",
    "            place = cls(address, client=client)\n",
    "            if sync:\n",
    "                place.sync_from_google()\n",
    "            places.append(place)\n",
    "        return places"
   ]
  },
  {
   "cell_type": "markdown",
   "metadata": {},
   "source": [
    "**Q15**: Verify that the alternative constructor works with and without the `sync` flag!"
   ]
  },
  {
   "cell_type": "code",
   "execution_count": 22,
   "metadata": {},
   "outputs": [
    {
     "data": {
      "text/plain": [
       "[<Place: Alexanderplatz>,\n",
       " <Place: Brandenburger Tor>,\n",
       " <Place: Checkpoint Charlie>,\n",
       " <Place: Kottbusser Tor>,\n",
       " <Place: Mauerpark>,\n",
       " <Place: Siegessäule>,\n",
       " <Place: Reichstag>,\n",
       " <Place: Soho House Berlin>,\n",
       " <Place: Tempelhofer Feld>]"
      ]
     },
     "execution_count": 22,
     "metadata": {},
     "output_type": "execute_result"
    }
   ],
   "source": [
    "Place.from_addresses(sights, client=api)"
   ]
  },
  {
   "cell_type": "code",
   "execution_count": 23,
   "metadata": {},
   "outputs": [
    {
     "data": {
      "text/plain": [
       "[<Place: Alexanderplatz [SYNCED]>,\n",
       " <Place: Brandenburger Tor [SYNCED]>,\n",
       " <Place: Checkpoint Charlie [SYNCED]>,\n",
       " <Place: Kottbusser Tor [SYNCED]>,\n",
       " <Place: Mauerpark [SYNCED]>,\n",
       " <Place: Siegessäule [SYNCED]>,\n",
       " <Place: Reichstag [SYNCED]>,\n",
       " <Place: Soho House Berlin [SYNCED]>,\n",
       " <Place: Tempelhofer Feld [SYNCED]>]"
      ]
     },
     "execution_count": 23,
     "metadata": {},
     "output_type": "execute_result"
    }
   ],
   "source": [
    "Place.from_addresses(sights, client=api, sync=True)"
   ]
  },
  {
   "cell_type": "markdown",
   "metadata": {},
   "source": [
    "## Visualization"
   ]
  },
  {
   "cell_type": "markdown",
   "metadata": {},
   "source": [
    "For geo-data it always makes sense to plot them on a map. We use the third-party library [folium <img height=\"12\" style=\"display: inline-block\" src=\"../static/link/to_gh.png\">](https://github.com/python-visualization/folium) to achieve that.\n",
    "\n",
    "**Q16**: Familiarize yourself with [folium <img height=\"12\" style=\"display: inline-block\" src=\"../static/link/to_gh.png\">](https://github.com/python-visualization/folium) and install it with the `pip` command line tool!"
   ]
  },
  {
   "cell_type": "code",
   "execution_count": 24,
   "metadata": {},
   "outputs": [
    {
     "name": "stdout",
     "output_type": "stream",
     "text": [
      "Requirement already satisfied: folium in /home/webartifex/repos/intro-to-python/.venv/lib/python3.8/site-packages (0.11.0)\n",
      "Requirement already satisfied: requests in /home/webartifex/repos/intro-to-python/.venv/lib/python3.8/site-packages (from folium) (2.24.0)\n",
      "Requirement already satisfied: jinja2>=2.9 in /home/webartifex/repos/intro-to-python/.venv/lib/python3.8/site-packages (from folium) (2.11.2)\n",
      "Requirement already satisfied: branca>=0.3.0 in /home/webartifex/repos/intro-to-python/.venv/lib/python3.8/site-packages (from folium) (0.4.1)\n",
      "Requirement already satisfied: numpy in /home/webartifex/repos/intro-to-python/.venv/lib/python3.8/site-packages (from folium) (1.19.2)\n",
      "Requirement already satisfied: idna<3,>=2.5 in /home/webartifex/repos/intro-to-python/.venv/lib/python3.8/site-packages (from requests->folium) (2.10)\n",
      "Requirement already satisfied: certifi>=2017.4.17 in /home/webartifex/repos/intro-to-python/.venv/lib/python3.8/site-packages (from requests->folium) (2020.6.20)\n",
      "Requirement already satisfied: chardet<4,>=3.0.2 in /home/webartifex/repos/intro-to-python/.venv/lib/python3.8/site-packages (from requests->folium) (3.0.4)\n",
      "Requirement already satisfied: urllib3!=1.25.0,!=1.25.1,<1.26,>=1.21.1 in /home/webartifex/repos/intro-to-python/.venv/lib/python3.8/site-packages (from requests->folium) (1.25.11)\n",
      "Requirement already satisfied: MarkupSafe>=0.23 in /home/webartifex/repos/intro-to-python/.venv/lib/python3.8/site-packages (from jinja2>=2.9->folium) (1.1.1)\n"
     ]
    }
   ],
   "source": [
    "!pip install folium"
   ]
  },
  {
   "cell_type": "markdown",
   "metadata": {},
   "source": [
    "**Q17**: Execute the code cells below to create an empty map of Berlin!"
   ]
  },
  {
   "cell_type": "code",
   "execution_count": 25,
   "metadata": {},
   "outputs": [],
   "source": [
    "import folium"
   ]
  },
  {
   "cell_type": "code",
   "execution_count": 26,
   "metadata": {},
   "outputs": [],
   "source": [
    "berlin = folium.Map(location=(52.513186, 13.3944349), zoom_start=14)"
   ]
  },
  {
   "cell_type": "code",
   "execution_count": 27,
   "metadata": {},
   "outputs": [
    {
     "data": {
      "text/plain": [
       "folium.folium.Map"
      ]
     },
     "execution_count": 27,
     "metadata": {},
     "output_type": "execute_result"
    }
   ],
   "source": [
    "type(berlin)"
   ]
  },
  {
   "cell_type": "markdown",
   "metadata": {},
   "source": [
    "`folium.Map` instances are shown as interactive maps in Jupyter notebooks whenever they are the last expression in a code cell."
   ]
  },
  {
   "cell_type": "code",
   "execution_count": 28,
   "metadata": {},
   "outputs": [
    {
     "data": {
      "text/html": [
       "<div style=\"width:100%;\"><div style=\"position:relative;width:100%;height:0;padding-bottom:60%;\"><span style=\"color:#565656\">Make this Notebook Trusted to load map: File -> Trust Notebook</span><iframe src=\"about:blank\" style=\"position:absolute;width:100%;height:100%;left:0;top:0;border:none !important;\" data-html=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 onload=\"this.contentDocument.open();this.contentDocument.write(atob(this.getAttribute('data-html')));this.contentDocument.close();\" allowfullscreen webkitallowfullscreen mozallowfullscreen></iframe></div></div>"
      ],
      "text/plain": [
       "<folium.folium.Map at 0x7f2c1dd02e80>"
      ]
     },
     "execution_count": 28,
     "metadata": {},
     "output_type": "execute_result"
    }
   ],
   "source": [
    "berlin"
   ]
  },
  {
   "cell_type": "markdown",
   "metadata": {},
   "source": [
    "In order to put something on the map, [folium <img height=\"12\" style=\"display: inline-block\" src=\"../static/link/to_gh.png\">](https://github.com/python-visualization/folium) works with so-called `Marker` objects.\n",
    "\n",
    "**Q18**: Review its docstring and then create a marker `m` with the location data of Brandenburg Gate! Use the `brandenburg_gate` object from above!\n",
    "\n",
    "Hint: You may want to use HTML tags for the `popup` argument to format the text output on the map in a nicer way. So, instead of just passing `\"Brandenburger Tor\"` as the `popup` argument, you could use, for example, `\"<b>Brandenburger Tor</b><br/>(Pariser Platz, 10117 Berlin, Germany)\"`. Then, the name appears in bold and the street address is put on the next line. You could use an f-string to parametrize the argument."
   ]
  },
  {
   "cell_type": "code",
   "execution_count": 29,
   "metadata": {},
   "outputs": [
    {
     "data": {
      "text/plain": [
       "\u001b[0;31mInit signature:\u001b[0m\n",
       "\u001b[0mfolium\u001b[0m\u001b[0;34m.\u001b[0m\u001b[0mMarker\u001b[0m\u001b[0;34m(\u001b[0m\u001b[0;34m\u001b[0m\n",
       "\u001b[0;34m\u001b[0m    \u001b[0mlocation\u001b[0m\u001b[0;34m,\u001b[0m\u001b[0;34m\u001b[0m\n",
       "\u001b[0;34m\u001b[0m    \u001b[0mpopup\u001b[0m\u001b[0;34m=\u001b[0m\u001b[0;32mNone\u001b[0m\u001b[0;34m,\u001b[0m\u001b[0;34m\u001b[0m\n",
       "\u001b[0;34m\u001b[0m    \u001b[0mtooltip\u001b[0m\u001b[0;34m=\u001b[0m\u001b[0;32mNone\u001b[0m\u001b[0;34m,\u001b[0m\u001b[0;34m\u001b[0m\n",
       "\u001b[0;34m\u001b[0m    \u001b[0micon\u001b[0m\u001b[0;34m=\u001b[0m\u001b[0;32mNone\u001b[0m\u001b[0;34m,\u001b[0m\u001b[0;34m\u001b[0m\n",
       "\u001b[0;34m\u001b[0m    \u001b[0mdraggable\u001b[0m\u001b[0;34m=\u001b[0m\u001b[0;32mFalse\u001b[0m\u001b[0;34m,\u001b[0m\u001b[0;34m\u001b[0m\n",
       "\u001b[0;34m\u001b[0m    \u001b[0;34m**\u001b[0m\u001b[0mkwargs\u001b[0m\u001b[0;34m,\u001b[0m\u001b[0;34m\u001b[0m\n",
       "\u001b[0;34m\u001b[0m\u001b[0;34m)\u001b[0m\u001b[0;34m\u001b[0m\u001b[0;34m\u001b[0m\u001b[0m\n",
       "\u001b[0;31mDocstring:\u001b[0m     \n",
       "Create a simple stock Leaflet marker on the map, with optional\n",
       "popup text or Vincent visualization.\n",
       "\n",
       "Parameters\n",
       "----------\n",
       "location: tuple or list\n",
       "    Latitude and Longitude of Marker (Northing, Easting)\n",
       "popup: string or folium.Popup, default None\n",
       "    Label for the Marker; either an escaped HTML string to initialize\n",
       "    folium.Popup or a folium.Popup instance.\n",
       "tooltip: str or folium.Tooltip, default None\n",
       "    Display a text when hovering over the object.\n",
       "icon: Icon plugin\n",
       "    the Icon plugin to use to render the marker.\n",
       "draggable: bool, default False\n",
       "    Set to True to be able to drag the marker around the map.\n",
       "\n",
       "Returns\n",
       "-------\n",
       "Marker names and HTML in obj.template_vars\n",
       "\n",
       "Examples\n",
       "--------\n",
       ">>> Marker(location=[45.5, -122.3], popup='Portland, OR')\n",
       ">>> Marker(location=[45.5, -122.3], popup=Popup('Portland, OR'))\n",
       "# If the popup label has characters that need to be escaped in HTML\n",
       ">>> Marker(location=[45.5, -122.3],\n",
       "...        popup=Popup('Mom & Pop Arrow Shop >>', parse_html=True))\n",
       "\u001b[0;31mFile:\u001b[0m           ~/repos/intro-to-python/.venv/lib/python3.8/site-packages/folium/map.py\n",
       "\u001b[0;31mType:\u001b[0m           type\n",
       "\u001b[0;31mSubclasses:\u001b[0m     Circle, CircleMarker, RegularPolygonMarker\n"
      ]
     },
     "metadata": {},
     "output_type": "display_data"
    }
   ],
   "source": [
    "folium.Marker?"
   ]
  },
  {
   "cell_type": "code",
   "execution_count": 30,
   "metadata": {},
   "outputs": [],
   "source": [
    "m = folium.Marker(\n",
    "    location=brandenburg_gate.location,\n",
    "    popup=f\"<b>{brandenburg_gate.name}</b><br/>({brandenburg_gate.address})\",\n",
    "    tooltip=brandenburg_gate.name,\n",
    ")"
   ]
  },
  {
   "cell_type": "code",
   "execution_count": 31,
   "metadata": {},
   "outputs": [
    {
     "data": {
      "text/plain": [
       "folium.map.Marker"
      ]
     },
     "execution_count": 31,
     "metadata": {},
     "output_type": "execute_result"
    }
   ],
   "source": [
    "type(m)"
   ]
  },
  {
   "cell_type": "markdown",
   "metadata": {},
   "source": [
    "**Q19**: Execute the next code cells that add `m` to the `berlin` map!"
   ]
  },
  {
   "cell_type": "code",
   "execution_count": 32,
   "metadata": {},
   "outputs": [
    {
     "data": {
      "text/plain": [
       "<folium.map.Marker at 0x7f2c1dd0c370>"
      ]
     },
     "execution_count": 32,
     "metadata": {},
     "output_type": "execute_result"
    }
   ],
   "source": [
    "m.add_to(berlin)"
   ]
  },
  {
   "cell_type": "code",
   "execution_count": 33,
   "metadata": {},
   "outputs": [
    {
     "data": {
      "text/html": [
       "<div style=\"width:100%;\"><div style=\"position:relative;width:100%;height:0;padding-bottom:60%;\"><span style=\"color:#565656\">Make this Notebook Trusted to load map: File -> Trust Notebook</span><iframe src=\"about:blank\" style=\"position:absolute;width:100%;height:100%;left:0;top:0;border:none !important;\" data-html=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 onload=\"this.contentDocument.open();this.contentDocument.write(atob(this.getAttribute('data-html')));this.contentDocument.close();\" allowfullscreen webkitallowfullscreen mozallowfullscreen></iframe></div></div>"
      ],
      "text/plain": [
       "<folium.folium.Map at 0x7f2c1dd02e80>"
      ]
     },
     "execution_count": 33,
     "metadata": {},
     "output_type": "execute_result"
    }
   ],
   "source": [
    "berlin"
   ]
  },
  {
   "cell_type": "markdown",
   "metadata": {},
   "source": [
    "### The `Place` Class (continued): Marker Representation"
   ]
  },
  {
   "cell_type": "markdown",
   "metadata": {},
   "source": [
    "**Q20**: Finish the `.as_marker()` method that returns a `Marker` instance when invoked on a `Place` instance! The method takes an optional `color` argument that uses [folium <img height=\"12\" style=\"display: inline-block\" src=\"../static/link/to_gh.png\">](https://github.com/python-visualization/folium)'s `Icon` type to control the color of the marker."
   ]
  },
  {
   "cell_type": "code",
   "execution_count": 34,
   "metadata": {},
   "outputs": [],
   "source": [
    "class Place:\n",
    "    \"\"\"A place connected to the Google Maps Geocoding API.\"\"\"\n",
    "\n",
    "    # answers from above\n",
    "    def __init__(self, street_address, *, client):\n",
    "        \"\"\"Create a new place.\n",
    "\n",
    "        Args:\n",
    "            street_address (str): street address of the place\n",
    "            client (googlemaps.Client): access to the Google Maps Geocoding API\n",
    "        \"\"\"\n",
    "        self.name = street_address.split(\",\")[0]\n",
    "        self.address = street_address\n",
    "        self.client = client\n",
    "        self.latitude = None\n",
    "        self.longitude = None\n",
    "        self.place_id = None\n",
    "\n",
    "    def __repr__(self):\n",
    "        cls, name = self.__class__.__name__, self.name\n",
    "        synced = \" [SYNCED]\" if self.place_id else \"\"\n",
    "        return f\"<{cls}: {name}{synced}>\"\n",
    "\n",
    "    def sync_from_google(self):\n",
    "        \"\"\"Download the place's coordinates and other info.\"\"\"\n",
    "        response = self.client.geocode(self.address)\n",
    "        first_hit = response[0]\n",
    "        self.address = first_hit[\"formatted_address\"]\n",
    "        self.latitude = first_hit[\"geometry\"][\"location\"][\"lat\"]\n",
    "        self.longitude = first_hit[\"geometry\"][\"location\"][\"lng\"]\n",
    "        self.place_id = first_hit[\"place_id\"]\n",
    "        return self\n",
    "\n",
    "    @property\n",
    "    def location(self):\n",
    "        return self.latitude, self.longitude\n",
    "\n",
    "    @classmethod\n",
    "    def from_addresses(cls, addresses, *, client, sync=False):\n",
    "        \"\"\"Create new places in a batch.\n",
    "\n",
    "        Args:\n",
    "            addresses (iterable of str's): the street addresses of the places\n",
    "            client (googlemaps.Client): access to the Google Maps Geocoding API\n",
    "        Returns:\n",
    "            list of Places\n",
    "        \"\"\"\n",
    "        places = []\n",
    "        for address in addresses:\n",
    "            place = cls(address, client=client)\n",
    "            if sync:\n",
    "                place.sync_from_google()\n",
    "            places.append(place)\n",
    "        return places\n",
    "\n",
    "    # answer to Q20\n",
    "    def as_marker(self, *, color=\"blue\"):\n",
    "        \"\"\"Create a Marker representation of the place.\n",
    "\n",
    "        Args:\n",
    "            color (str): color of the marker, defaults to \"blue\"\n",
    "\n",
    "        Returns:\n",
    "            marker (folium.Marker)\n",
    "\n",
    "        Raises:\n",
    "            RuntimeError: if the place is not synchronized with\n",
    "                the Google Maps Geocoding API\n",
    "        \"\"\"\n",
    "        if not self.place_id:\n",
    "            raise RuntimeError(\"must synchronize with Google first\")\n",
    "        return folium.Marker(\n",
    "            location=self.location,\n",
    "            popup=f\"<b>{self.name}</b><br/>({self.address})\",\n",
    "            tooltip=self.name,\n",
    "            icon=folium.Icon(color=color),\n",
    "        )"
   ]
  },
  {
   "cell_type": "markdown",
   "metadata": {},
   "source": [
    "**Q21**: Execute the next code cells that create a new `Place` and obtain a `Marker` for it!\n",
    "\n",
    "Notes: Without synchronization, we get a `RuntimeError`. `.as_marker()` can be chained right after `.sync_from_google()`"
   ]
  },
  {
   "cell_type": "code",
   "execution_count": 35,
   "metadata": {},
   "outputs": [],
   "source": [
    "brandenburg_gate = Place(\"Brandenburger Tor, Pariser Platz, Berlin\", client=api)"
   ]
  },
  {
   "cell_type": "code",
   "execution_count": 36,
   "metadata": {},
   "outputs": [
    {
     "ename": "RuntimeError",
     "evalue": "must synchronize with Google first",
     "output_type": "error",
     "traceback": [
      "\u001b[0;31m---------------------------------------------------------------------------\u001b[0m",
      "\u001b[0;31mRuntimeError\u001b[0m                              Traceback (most recent call last)",
      "\u001b[0;32m<ipython-input-36-a388532183c9>\u001b[0m in \u001b[0;36m<module>\u001b[0;34m\u001b[0m\n\u001b[0;32m----> 1\u001b[0;31m \u001b[0mbrandenburg_gate\u001b[0m\u001b[0;34m.\u001b[0m\u001b[0mas_marker\u001b[0m\u001b[0;34m(\u001b[0m\u001b[0;34m)\u001b[0m\u001b[0;34m\u001b[0m\u001b[0;34m\u001b[0m\u001b[0m\n\u001b[0m",
      "\u001b[0;32m<ipython-input-34-48a0e87499e0>\u001b[0m in \u001b[0;36mas_marker\u001b[0;34m(self, color)\u001b[0m\n\u001b[1;32m     69\u001b[0m         \"\"\"\n\u001b[1;32m     70\u001b[0m         \u001b[0;32mif\u001b[0m \u001b[0;32mnot\u001b[0m \u001b[0mself\u001b[0m\u001b[0;34m.\u001b[0m\u001b[0mplace_id\u001b[0m\u001b[0;34m:\u001b[0m\u001b[0;34m\u001b[0m\u001b[0;34m\u001b[0m\u001b[0m\n\u001b[0;32m---> 71\u001b[0;31m             \u001b[0;32mraise\u001b[0m \u001b[0mRuntimeError\u001b[0m\u001b[0;34m(\u001b[0m\u001b[0;34m\"must synchronize with Google first\"\u001b[0m\u001b[0;34m)\u001b[0m\u001b[0;34m\u001b[0m\u001b[0;34m\u001b[0m\u001b[0m\n\u001b[0m\u001b[1;32m     72\u001b[0m         return folium.Marker(\n\u001b[1;32m     73\u001b[0m             \u001b[0mlocation\u001b[0m\u001b[0;34m=\u001b[0m\u001b[0mself\u001b[0m\u001b[0;34m.\u001b[0m\u001b[0mlocation\u001b[0m\u001b[0;34m,\u001b[0m\u001b[0;34m\u001b[0m\u001b[0;34m\u001b[0m\u001b[0m\n",
      "\u001b[0;31mRuntimeError\u001b[0m: must synchronize with Google first"
     ]
    }
   ],
   "source": [
    "brandenburg_gate.as_marker()"
   ]
  },
  {
   "cell_type": "code",
   "execution_count": 37,
   "metadata": {},
   "outputs": [
    {
     "data": {
      "text/plain": [
       "<folium.map.Marker at 0x7f2c584477f0>"
      ]
     },
     "execution_count": 37,
     "metadata": {},
     "output_type": "execute_result"
    }
   ],
   "source": [
    "brandenburg_gate.sync_from_google().as_marker()"
   ]
  },
  {
   "cell_type": "markdown",
   "metadata": {},
   "source": [
    "**Q22**: Use the alternative `.from_addresses()` constructor to create a `list` named `places` with already synced `Place`s!"
   ]
  },
  {
   "cell_type": "code",
   "execution_count": 38,
   "metadata": {},
   "outputs": [],
   "source": [
    "places = Place.from_addresses(sights, client=api, sync=True)"
   ]
  },
  {
   "cell_type": "code",
   "execution_count": 39,
   "metadata": {},
   "outputs": [
    {
     "data": {
      "text/plain": [
       "[<Place: Alexanderplatz [SYNCED]>,\n",
       " <Place: Brandenburger Tor [SYNCED]>,\n",
       " <Place: Checkpoint Charlie [SYNCED]>,\n",
       " <Place: Kottbusser Tor [SYNCED]>,\n",
       " <Place: Mauerpark [SYNCED]>,\n",
       " <Place: Siegessäule [SYNCED]>,\n",
       " <Place: Reichstag [SYNCED]>,\n",
       " <Place: Soho House Berlin [SYNCED]>,\n",
       " <Place: Tempelhofer Feld [SYNCED]>]"
      ]
     },
     "execution_count": 39,
     "metadata": {},
     "output_type": "execute_result"
    }
   ],
   "source": [
    "places"
   ]
  },
  {
   "cell_type": "markdown",
   "metadata": {},
   "source": [
    "### The `Map` Class"
   ]
  },
  {
   "cell_type": "markdown",
   "metadata": {
    "slideshow": {
     "slide_type": "subslide"
    }
   },
   "source": [
    "To make [folium <img height=\"12\" style=\"display: inline-block\" src=\"../static/link/to_gh.png\">](https://github.com/python-visualization/folium)'s `Map` class work even better with our `Place` instances, we write our own `Map` class wrapping [folium <img height=\"12\" style=\"display: inline-block\" src=\"../static/link/to_gh.png\">](https://github.com/python-visualization/folium)'s. Then, we add further functionality to the class throughout this tutorial.\n",
    "\n",
    "The `.__init__()` method takes mandatory `name`, `center`, `start`, `end`, and `places` arguments. `name` is there for convenience, `center` is the map's initial center, `start` and `end` are `Place` instances, and `places` is a finite iterable of `Place` instances. Also, `.__init__()` accepts an optional `initial_zoom` argument defaulting to `12`.\n",
    "\n",
    "Upon initialization, a `folium.Map` instance is created and stored as an implementation detail `_map`. Also, `.__init__()` puts markers for each place on the `_map` object: `\"green\"` and `\"red\"` markers for the `start` and `end` locations and `\"blue\"` ones for the `places` to be visited. To do that, `.__init__()` invokes another `.add_marker()` method on the `Map` class, once for every `Place` object. `.add_marker()` itself invokes the `.add_to()` method on the `folium.Marker` representation of a `Place` instance and enables method chaining.\n",
    "\n",
    "To keep the state in a `Map` instance consistent, all passed in arguments except `name` are treated as implementation details. Otherwise, a user of the `Map` class could, for example, change the `start` attribute, which would not be reflected in the internally kept `folium.Map` object.\n",
    "\n",
    "**Q23**: Implement the `.__init__()` and `.add_marker()` methods on the `Map` class as described!\n",
    "\n",
    "**Q24**: Add a `.show()` method on the `Map` class that simply returns the internal `folium.Map` object!"
   ]
  },
  {
   "cell_type": "code",
   "execution_count": 40,
   "metadata": {},
   "outputs": [],
   "source": [
    "class Map:\n",
    "    \"\"\"A map with plotting and routing capabilities.\"\"\"\n",
    "\n",
    "    # answer to Q23\n",
    "    def __init__(self, name, center, start, end, places, initial_zoom=12):\n",
    "        \"\"\"Create a new map.\n",
    "\n",
    "        Args:\n",
    "            name (str): name of the map\n",
    "            center (float, float): coordinates of the map's center\n",
    "            start (Place): start of the tour\n",
    "            end (Place): end of the tour\n",
    "            places (iterable of Places): the places to be visitied\n",
    "            initial_zoom (integer): zoom level according to folium's\n",
    "                specifications; defaults to 12\n",
    "        \"\"\"\n",
    "        self.name = name\n",
    "        self._start = start\n",
    "        self._end = end\n",
    "        self._places = places\n",
    "        self._map = folium.Map(location=center, zoom_start=initial_zoom)\n",
    "\n",
    "        # Add markers to the map.\n",
    "        self.add_marker(start.as_marker(color=\"green\"))\n",
    "        self.add_marker(end.as_marker(color=\"red\"))\n",
    "        for place in places:\n",
    "            self.add_marker(place.as_marker())\n",
    "\n",
    "    def __repr__(self):\n",
    "        return f\"<Map: {self.name}>\"\n",
    "\n",
    "    # answer to Q24\n",
    "    def show(self):\n",
    "        \"\"\"Return a folium.Map representation of the map.\"\"\"\n",
    "        return self._map\n",
    "\n",
    "    # answer to Q23\n",
    "    def add_marker(self, marker):\n",
    "        \"\"\"Add a marker to the map.\n",
    "\n",
    "        Args:\n",
    "            marker (folium.Marker): marker to be put on the map\n",
    "        \"\"\"\n",
    "        marker.add_to(self._map)\n",
    "        return self"
   ]
  },
  {
   "cell_type": "markdown",
   "metadata": {},
   "source": [
    "Let's put all the sights, the two airports, and three more places, the [Bundeskanzleramt <img height=\"12\" style=\"display: inline-block\" src=\"../static/link/to_wiki.png\">](https://en.wikipedia.org/wiki/German_Chancellery), the [Olympic Stadium <img height=\"12\" style=\"display: inline-block\" src=\"../static/link/to_wiki.png\">](https://en.wikipedia.org/wiki/Olympiastadion_%28Berlin%29), and the [East Side Gallery <img height=\"12\" style=\"display: inline-block\" src=\"../static/link/to_wiki.png\">](https://en.wikipedia.org/wiki/East_Side_Gallery), on the map.\n",
    "\n",
    "**Q25**: Execute the next code cells to create a map of Berlin with all the places on it!\n",
    "\n",
    "Note: Because we implemented method chaining everywhere, the code below is only *one* expression written over several lines. It almost looks like a self-explanatory and compact \"language\" on its own."
   ]
  },
  {
   "cell_type": "code",
   "execution_count": 41,
   "metadata": {},
   "outputs": [],
   "source": [
    "berlin = (\n",
    "    Map(\n",
    "        \"Sights in Berlin\",\n",
    "        center=(52.5015154, 13.4066838),\n",
    "        start=Place(arrival, client=api).sync_from_google(),\n",
    "        end=Place(departure, client=api).sync_from_google(),\n",
    "        places=places,\n",
    "        initial_zoom=10,\n",
    "    )\n",
    "    .add_marker(\n",
    "        Place(\"Bundeskanzleramt, Willy-Brandt-Straße, Berlin\", client=api)\n",
    "        .sync_from_google()\n",
    "        .as_marker(color=\"orange\")\n",
    "    )\n",
    "    .add_marker(\n",
    "        Place(\"Olympiastadion Berlin\", client=api)\n",
    "        .sync_from_google()\n",
    "        .as_marker(color=\"orange\")\n",
    "    )\n",
    "    .add_marker(\n",
    "        Place(\"East Side Gallery, Berlin\", client=api)\n",
    "        .sync_from_google()\n",
    "        .as_marker(color=\"orange\")\n",
    "    )\n",
    ")"
   ]
  },
  {
   "cell_type": "code",
   "execution_count": 42,
   "metadata": {},
   "outputs": [
    {
     "data": {
      "text/plain": [
       "<Map: Sights in Berlin>"
      ]
     },
     "execution_count": 42,
     "metadata": {},
     "output_type": "execute_result"
    }
   ],
   "source": [
    "berlin"
   ]
  },
  {
   "cell_type": "code",
   "execution_count": 43,
   "metadata": {},
   "outputs": [
    {
     "data": {
      "text/html": [
       "<div style=\"width:100%;\"><div style=\"position:relative;width:100%;height:0;padding-bottom:60%;\"><span style=\"color:#565656\">Make this Notebook Trusted to load map: File -> Trust Notebook</span><iframe src=\"about:blank\" style=\"position:absolute;width:100%;height:100%;left:0;top:0;border:none !important;\" data-html=PCFET0NUWVBFIGh0bWw+CjxoZWFkPiAgICAKICAgIDxtZXRhIGh0dHAtZXF1aXY9ImNvbnRlbnQtdHlwZSIgY29udGVudD0idGV4dC9odG1sOyBjaGFyc2V0PVVURi04IiAvPgogICAgCiAgICAgICAgPHNjcmlwdD4KICAgICAgICAgICAgTF9OT19UT1VDSCA9IGZhbHNlOwogICAgICAgICAgICBMX0RJU0FCTEVfM0QgPSBmYWxzZTsKICAgICAgICA8L3NjcmlwdD4KICAgIAogICAgPHNjcmlwdCBzcmM9Imh0dHBzOi8vY2RuLmpzZGVsaXZyLm5ldC9ucG0vbGVhZmxldEAxLjYuMC9kaXN0L2xlYWZsZXQuanMiPjwvc2NyaXB0PgogICAgPHNjcmlwdCBzcmM9Imh0dHBzOi8vY29kZS5qcXVlcnkuY29tL2pxdWVyeS0xLjEyLjQubWluLmpzIj48L3NjcmlwdD4KICAgIDxzY3JpcHQgc3JjPSJodHRwczovL21heGNkbi5ib290c3RyYXBjZG4uY29tL2Jvb3RzdHJhcC8zLjIuMC9qcy9ib290c3RyYXAubWluLmpzIj48L3NjcmlwdD4KICAgIDxzY3JpcHQgc3JjPSJodHRwczovL2NkbmpzLmNsb3VkZmxhcmUuY29tL2FqYXgvbGlicy9MZWFmbGV0LmF3ZXNvbWUtbWFya2Vycy8yLjAuMi9sZWFmbGV0LmF3ZXNvbWUtbWFya2Vycy5qcyI+PC9zY3JpcHQ+CiAgICA8bGluayByZWw9InN0eWxlc2hlZXQiIGhyZWY9Imh0dHBzOi8vY2RuLmpzZGVsaXZyLm5ldC9ucG0vbGVhZmxldEAxLjYuMC9kaXN0L2xlYWZsZXQuY3NzIi8+CiAgICA8bGluayByZWw9InN0eWxlc2hlZXQiIGhyZWY9Imh0dHBzOi8vbWF4Y2RuLmJvb3RzdHJhcGNkbi5jb20vYm9vdHN0cmFwLzMuMi4wL2Nzcy9ib290c3RyYXAubWluLmNzcyIvPgogICAgPGxpbmsgcmVsPSJzdHlsZXNoZWV0IiBocmVmPSJodHRwczovL21heGNkbi5ib290c3RyYXBjZG4uY29tL2Jvb3RzdHJhcC8zLjIuMC9jc3MvYm9vdHN0cmFwLXRoZW1lLm1pbi5jc3MiLz4KICAgIDxsaW5rIHJlbD0ic3R5bGVzaGVldCIgaHJlZj0iaHR0cHM6Ly9tYXhjZG4uYm9vdHN0cmFwY2RuLmNvbS9mb250LWF3ZXNvbWUvNC42LjMvY3NzL2ZvbnQtYXdlc29tZS5taW4uY3NzIi8+CiAgICA8bGluayByZWw9InN0eWxlc2hlZXQiIGhyZWY9Imh0dHBzOi8vY2RuanMuY2xvdWRmbGFyZS5jb20vYWpheC9saWJzL0xlYWZsZXQuYXdlc29tZS1tYXJrZXJzLzIuMC4yL2xlYWZsZXQuYXdlc29tZS1tYXJrZXJzLmNzcyIvPgogICAgPGxpbmsgcmVsPSJzdHlsZXNoZWV0IiBocmVmPSJodHRwczovL3Jhd2Nkbi5naXRoYWNrLmNvbS9weXRob24tdmlzdWFsaXphdGlvbi9mb2xpdW0vbWFzdGVyL2ZvbGl1bS90ZW1wbGF0ZXMvbGVhZmxldC5hd2Vzb21lLnJvdGF0ZS5jc3MiLz4KICAgIDxzdHlsZT5odG1sLCBib2R5IHt3aWR0aDogMTAwJTtoZWlnaHQ6IDEwMCU7bWFyZ2luOiAwO3BhZGRpbmc6IDA7fTwvc3R5bGU+CiAgICA8c3R5bGU+I21hcCB7cG9zaXRpb246YWJzb2x1dGU7dG9wOjA7Ym90dG9tOjA7cmlnaHQ6MDtsZWZ0OjA7fTwvc3R5bGU+CiAgICAKICAgICAgICAgICAgPG1ldGEgbmFtZT0idmlld3BvcnQiIGNvbnRlbnQ9IndpZHRoPWRldmljZS13aWR0aCwKICAgICAgICAgICAgICAgIGluaXRpYWwtc2NhbGU9MS4wLCBtYXhpbXVtLXNjYWxlPTEuMCwgdXNlci1zY2FsYWJsZT1ubyIgLz4KICAgICAgICAgICAgPHN0eWxlPgogICAgICAgICAgICAgICAgI21hcF9jMTU5YjRkODk1MDU0MWY1YTRlNWFhOWM1YzkyNzFkMyB7CiAgICAgICAgICAgICAgICAgICAgcG9zaXRpb246IHJlbGF0aXZlOwogICAgICAgICAgICAgICAgICAgIHdpZHRoOiAxMDAuMCU7CiAgICAgICAgICAgICAgICAgICAgaGVpZ2h0OiAxMDAuMCU7CiAgICAgICAgICAgICAgICAgICAgbGVmdDogMC4wJTsKICAgICAgICAgICAgICAgICAgICB0b3A6IDAuMCU7CiAgICAgICAgICAgICAgICB9CiAgICAgICAgICAgIDwvc3R5bGU+CiAgICAgICAgCjwvaGVhZD4KPGJvZHk+ICAgIAogICAgCiAgICAgICAgICAgIDxkaXYgY2xhc3M9ImZvbGl1bS1tYXAiIGlkPSJtYXBfYzE1OWI0ZDg5NTA1NDFmNWE0ZTVhYTljNWM5MjcxZDMiID48L2Rpdj4KICAgICAgICAKPC9ib2R5Pgo8c2NyaXB0PiAgICAKICAgIAogICAgICAgICAgICB2YXIgbWFwX2MxNTliNGQ4OTUwNTQxZjVhNGU1YWE5YzVjOTI3MWQzID0gTC5tYXAoCiAgICAgICAgICAgICAgICAibWFwX2MxNTliNGQ4OTUwNTQxZjVhNGU1YWE5YzVjOTI3MWQzIiwKICAgICAgICAgICAgICAgIHsKICAgICAgICAgICAgICAgICAgICBjZW50ZXI6IFs1Mi41MDE1MTU0LCAxMy40MDY2ODM4XSwKICAgICAgICAgICAgICAgICAgICBjcnM6IEwuQ1JTLkVQU0czODU3LAogICAgICAgICAgICAgICAgICAgIHpvb206IDEwLAogICAgICAgICAgICAgICAgICAgIHpvb21Db250cm9sOiB0cnVlLAogICAgICAgICAgICAgICAgICAgIHByZWZlckNhbnZhczogZmFsc2UsCiAgICAgICAgICAgICAgICB9CiAgICAgICAgICAgICk7CgogICAgICAgICAgICAKCiAgICAgICAgCiAgICAKICAgICAgICAgICAgdmFyIHRpbGVfbGF5ZXJfZDUxNTNjNTEzMjA1NGYyYTlkYTk3ZmU2YWI3OGI1MTkgPSBMLnRpbGVMYXllcigKICAgICAgICAgICAgICAgICJodHRwczovL3tzfS50aWxlLm9wZW5zdHJlZXRtYXAub3JnL3t6fS97eH0ve3l9LnBuZyIsCiAgICAgICAgICAgICAgICB7ImF0dHJpYnV0aW9uIjogIkRhdGEgYnkgXHUwMDI2Y29weTsgXHUwMDNjYSBocmVmPVwiaHR0cDovL29wZW5zdHJlZXRtYXAub3JnXCJcdTAwM2VPcGVuU3RyZWV0TWFwXHUwMDNjL2FcdTAwM2UsIHVuZGVyIFx1MDAzY2EgaHJlZj1cImh0dHA6Ly93d3cub3BlbnN0cmVldG1hcC5vcmcvY29weXJpZ2h0XCJcdTAwM2VPRGJMXHUwMDNjL2FcdTAwM2UuIiwgImRldGVjdFJldGluYSI6IGZhbHNlLCAibWF4TmF0aXZlWm9vbSI6IDE4LCAibWF4Wm9vbSI6IDE4LCAibWluWm9vbSI6IDAsICJub1dyYXAiOiBmYWxzZSwgIm9wYWNpdHkiOiAxLCAic3ViZG9tYWlucyI6ICJhYmMiLCAidG1zIjogZmFsc2V9CiAgICAgICAgICAgICkuYWRkVG8obWFwX2MxNTliNGQ4OTUwNTQxZjVhNGU1YWE5YzVjOTI3MWQzKTsKICAgICAgICAKICAgIAogICAgICAgICAgICB2YXIgbWFya2VyXzk0MmI2ZWYzYzI2MzQ4NzhiMjU2MjBmNTUwZjdmMzc3ID0gTC5tYXJrZXIoCiAgICAgICAgICAgICAgICBbNTIuNTU4ODMyNywgMTMuMjg4NDM3NF0sCiAgICAgICAgICAgICAgICB7fQogICAgICAgICAgICApLmFkZFRvKG1hcF9jMTU5YjRkODk1MDU0MWY1YTRlNWFhOWM1YzkyNzFkMyk7CiAgICAgICAgCiAgICAKICAgICAgICAgICAgdmFyIGljb25fNmRjZDViYTJiMDgyNDBhOWFhYWJjZWUxMjJlZTNiYTQgPSBMLkF3ZXNvbWVNYXJrZXJzLmljb24oCiAgICAgICAgICAgICAgICB7ImV4dHJhQ2xhc3NlcyI6ICJmYS1yb3RhdGUtMCIsICJpY29uIjogImluZm8tc2lnbiIsICJpY29uQ29sb3IiOiAid2hpdGUiLCAibWFya2VyQ29sb3IiOiAiZ3JlZW4iLCAicHJlZml4IjogImdseXBoaWNvbiJ9CiAgICAgICAgICAgICk7CiAgICAgICAgICAgIG1hcmtlcl85NDJiNmVmM2MyNjM0ODc4YjI1NjIwZjU1MGY3ZjM3Ny5zZXRJY29uKGljb25fNmRjZDViYTJiMDgyNDBhOWFhYWJjZWUxMjJlZTNiYTQpOwogICAgICAgIAogICAgCiAgICAgICAgdmFyIHBvcHVwXzZhMTVmNGJlMGJkODQzN2Y5MGZlMmM4MmUzMWZkNmY5ID0gTC5wb3B1cCh7Im1heFdpZHRoIjogIjEwMCUifSk7CgogICAgICAgIAogICAgICAgICAgICB2YXIgaHRtbF83ZWM4OGI3ZDI4Yjk0OTliYjNiNjMyYmMwZTlkNTY1MCA9ICQoYDxkaXYgaWQ9Imh0bWxfN2VjODhiN2QyOGI5NDk5YmIzYjYzMmJjMGU5ZDU2NTAiIHN0eWxlPSJ3aWR0aDogMTAwLjAlOyBoZWlnaHQ6IDEwMC4wJTsiPjxiPkJlcmxpbiBUZWdlbCBBaXJwb3J0IChUWEwpPC9iPjxici8+KEJlcmxpbi1UZWdlbCBBaXJwb3J0IChUWEwpLCBTYWF0d2lua2xlciBEYW1tLCAxMzQwNSBCZXJsaW4sIEdlcm1hbnkpPC9kaXY+YClbMF07CiAgICAgICAgICAgIHBvcHVwXzZhMTVmNGJlMGJkODQzN2Y5MGZlMmM4MmUzMWZkNmY5LnNldENvbnRlbnQoaHRtbF83ZWM4OGI3ZDI4Yjk0OTliYjNiNjMyYmMwZTlkNTY1MCk7CiAgICAgICAgCgogICAgICAgIG1hcmtlcl85NDJiNmVmM2MyNjM0ODc4YjI1NjIwZjU1MGY3ZjM3Ny5iaW5kUG9wdXAocG9wdXBfNmExNWY0YmUwYmQ4NDM3ZjkwZmUyYzgyZTMxZmQ2ZjkpCiAgICAgICAgOwoKICAgICAgICAKICAgIAogICAgCiAgICAgICAgICAgIG1hcmtlcl85NDJiNmVmM2MyNjM0ODc4YjI1NjIwZjU1MGY3ZjM3Ny5iaW5kVG9vbHRpcCgKICAgICAgICAgICAgICAgIGA8ZGl2PgogICAgICAgICAgICAgICAgICAgICBCZXJsaW4gVGVnZWwgQWlycG9ydCAoVFhMKQogICAgICAgICAgICAgICAgIDwvZGl2PmAsCiAgICAgICAgICAgICAgICB7InN0aWNreSI6IHRydWV9CiAgICAgICAgICAgICk7CiAgICAgICAgCiAgICAKICAgICAgICAgICAgdmFyIG1hcmtlcl9jZGRhYzg5MGEwNzQ0YzBiOTY4ZTQ3YzFhMjkwODA5YiA9IEwubWFya2VyKAogICAgICAgICAgICAgICAgWzUyLjM3MzMxNTI5OTk5OTk5LCAxMy41MDY0NDk3XSwKICAgICAgICAgICAgICAgIHt9CiAgICAgICAgICAgICkuYWRkVG8obWFwX2MxNTliNGQ4OTUwNTQxZjVhNGU1YWE5YzVjOTI3MWQzKTsKICAgICAgICAKICAgIAogICAgICAgICAgICB2YXIgaWNvbl9iNTdiOWZiYzNhZDE0YmJiYjcwYjc2NzE1MmVhMDFiOCA9IEwuQXdlc29tZU1hcmtlcnMuaWNvbigKICAgICAgICAgICAgICAgIHsiZXh0cmFDbGFzc2VzIjogImZhLXJvdGF0ZS0wIiwgImljb24iOiAiaW5mby1zaWduIiwgImljb25Db2xvciI6ICJ3aGl0ZSIsICJtYXJrZXJDb2xvciI6ICJyZWQiLCAicHJlZml4IjogImdseXBoaWNvbiJ9CiAgICAgICAgICAgICk7CiAgICAgICAgICAgIG1hcmtlcl9jZGRhYzg5MGEwNzQ0YzBiOTY4ZTQ3YzFhMjkwODA5Yi5zZXRJY29uKGljb25fYjU3YjlmYmMzYWQxNGJiYmI3MGI3NjcxNTJlYTAxYjgpOwogICAgICAgIAogICAgCiAgICAgICAgdmFyIHBvcHVwXzkyNzAyMDI3ZTk4MDRiZTk5NDI5MjZlZDlmZDhkMTU3ID0gTC5wb3B1cCh7Im1heFdpZHRoIjogIjEwMCUifSk7CgogICAgICAgIAogICAgICAgICAgICB2YXIgaHRtbF9lYzU5ODE3MDAwMzE0ZDFiYjMyMTY3ZTUxMDdjZjY5YSA9ICQoYDxkaXYgaWQ9Imh0bWxfZWM1OTgxNzAwMDMxNGQxYmIzMjE2N2U1MTA3Y2Y2OWEiIHN0eWxlPSJ3aWR0aDogMTAwLjAlOyBoZWlnaHQ6IDEwMC4wJTsiPjxiPkJlcmxpbiBTY2jDtm5lZmVsZCBBaXJwb3J0IChTWEYpPC9iPjxici8+KEJlcmxpbiBTY2jDtm5lZmVsZCBBaXJwb3J0IChTWEYpLCAxMjUyOSBTY2jDtm5lZmVsZCwgR2VybWFueSk8L2Rpdj5gKVswXTsKICAgICAgICAgICAgcG9wdXBfOTI3MDIwMjdlOTgwNGJlOTk0MjkyNmVkOWZkOGQxNTcuc2V0Q29udGVudChodG1sX2VjNTk4MTcwMDAzMTRkMWJiMzIxNjdlNTEwN2NmNjlhKTsKICAgICAgICAKCiAgICAgICAgbWFya2VyX2NkZGFjODkwYTA3NDRjMGI5NjhlNDdjMWEyOTA4MDliLmJpbmRQb3B1cChwb3B1cF85MjcwMjAyN2U5ODA0YmU5OTQyOTI2ZWQ5ZmQ4ZDE1NykKICAgICAgICA7CgogICAgICAgIAogICAgCiAgICAKICAgICAgICAgICAgbWFya2VyX2NkZGFjODkwYTA3NDRjMGI5NjhlNDdjMWEyOTA4MDliLmJpbmRUb29sdGlwKAogICAgICAgICAgICAgICAgYDxkaXY+CiAgICAgICAgICAgICAgICAgICAgIEJlcmxpbiBTY2jDtm5lZmVsZCBBaXJwb3J0IChTWEYpCiAgICAgICAgICAgICAgICAgPC9kaXY+YCwKICAgICAgICAgICAgICAgIHsic3RpY2t5IjogdHJ1ZX0KICAgICAgICAgICAgKTsKICAgICAgICAKICAgIAogICAgICAgICAgICB2YXIgbWFya2VyX2E1YjYzNjM1ODRmNTQ0OGY5OTdiNDRhMDY0ZTA1M2ViID0gTC5tYXJrZXIoCiAgICAgICAgICAgICAgICBbNTIuNTIxOTgxMzk5OTk5OTksIDEzLjQxMzMwNl0sCiAgICAgICAgICAgICAgICB7fQogICAgICAgICAgICApLmFkZFRvKG1hcF9jMTU5YjRkODk1MDU0MWY1YTRlNWFhOWM1YzkyNzFkMyk7CiAgICAgICAgCiAgICAKICAgICAgICAgICAgdmFyIGljb25fOGZmZTI1YTMwZjNmNDI3N2IyMzZlNzA3ZDI2NzI3NTMgPSBMLkF3ZXNvbWVNYXJrZXJzLmljb24oCiAgICAgICAgICAgICAgICB7ImV4dHJhQ2xhc3NlcyI6ICJmYS1yb3RhdGUtMCIsICJpY29uIjogImluZm8tc2lnbiIsICJpY29uQ29sb3IiOiAid2hpdGUiLCAibWFya2VyQ29sb3IiOiAiYmx1ZSIsICJwcmVmaXgiOiAiZ2x5cGhpY29uIn0KICAgICAgICAgICAgKTsKICAgICAgICAgICAgbWFya2VyX2E1YjYzNjM1ODRmNTQ0OGY5OTdiNDRhMDY0ZTA1M2ViLnNldEljb24oaWNvbl84ZmZlMjVhMzBmM2Y0Mjc3YjIzNmU3MDdkMjY3Mjc1Myk7CiAgICAgICAgCiAgICAKICAgICAgICB2YXIgcG9wdXBfZjgwNDc3OTU0MmM5NDdiZDk2YzIwYmU2NTNjYWFkMDUgPSBMLnBvcHVwKHsibWF4V2lkdGgiOiAiMTAwJSJ9KTsKCiAgICAgICAgCiAgICAgICAgICAgIHZhciBodG1sX2ExNmJlYjQwMjY4NDQwM2Y4YWY4YTM0MWUzZWQwYmJiID0gJChgPGRpdiBpZD0iaHRtbF9hMTZiZWI0MDI2ODQ0MDNmOGFmOGEzNDFlM2VkMGJiYiIgc3R5bGU9IndpZHRoOiAxMDAuMCU7IGhlaWdodDogMTAwLjAlOyI+PGI+QWxleGFuZGVycGxhdHo8L2I+PGJyLz4oMTAxNzggQmVybGluLCBHZXJtYW55KTwvZGl2PmApWzBdOwogICAgICAgICAgICBwb3B1cF9mODA0Nzc5NTQyYzk0N2JkOTZjMjBiZTY1M2NhYWQwNS5zZXRDb250ZW50KGh0bWxfYTE2YmViNDAyNjg0NDAzZjhhZjhhMzQxZTNlZDBiYmIpOwogICAgICAgIAoKICAgICAgICBtYXJrZXJfYTViNjM2MzU4NGY1NDQ4Zjk5N2I0NGEwNjRlMDUzZWIuYmluZFBvcHVwKHBvcHVwX2Y4MDQ3Nzk1NDJjOTQ3YmQ5NmMyMGJlNjUzY2FhZDA1KQogICAgICAgIDsKCiAgICAgICAgCiAgICAKICAgIAogICAgICAgICAgICBtYXJrZXJfYTViNjM2MzU4NGY1NDQ4Zjk5N2I0NGEwNjRlMDUzZWIuYmluZFRvb2x0aXAoCiAgICAgICAgICAgICAgICBgPGRpdj4KICAgICAgICAgICAgICAgICAgICAgQWxleGFuZGVycGxhdHoKICAgICAgICAgICAgICAgICA8L2Rpdj5gLAogICAgICAgICAgICAgICAgeyJzdGlja3kiOiB0cnVlfQogICAgICAgICAgICApOwogICAgICAgIAogICAgCiAgICAgICAgICAgIHZhciBtYXJrZXJfNmE0N2Y0Y2IxYjBmNGM4ZGIwYjk5MTdhNDBmYWE5MWQgPSBMLm1hcmtlcigKICAgICAgICAgICAgICAgIFs1Mi41MTYyNzQ2LCAxMy4zNzc3MDQxXSwKICAgICAgICAgICAgICAgIHt9CiAgICAgICAgICAgICkuYWRkVG8obWFwX2MxNTliNGQ4OTUwNTQxZjVhNGU1YWE5YzVjOTI3MWQzKTsKICAgICAgICAKICAgIAogICAgICAgICAgICB2YXIgaWNvbl82OTlmM2Q3YTQ1NjI0ZjU4ODY0OTUyNTVmOTAxY2UxMyA9IEwuQXdlc29tZU1hcmtlcnMuaWNvbigKICAgICAgICAgICAgICAgIHsiZXh0cmFDbGFzc2VzIjogImZhLXJvdGF0ZS0wIiwgImljb24iOiAiaW5mby1zaWduIiwgImljb25Db2xvciI6ICJ3aGl0ZSIsICJtYXJrZXJDb2xvciI6ICJibHVlIiwgInByZWZpeCI6ICJnbHlwaGljb24ifQogICAgICAgICAgICApOwogICAgICAgICAgICBtYXJrZXJfNmE0N2Y0Y2IxYjBmNGM4ZGIwYjk5MTdhNDBmYWE5MWQuc2V0SWNvbihpY29uXzY5OWYzZDdhNDU2MjRmNTg4NjQ5NTI1NWY5MDFjZTEzKTsKICAgICAgICAKICAgIAogICAgICAgIHZhciBwb3B1cF9iZDUzYzYzODk1YTk0NWQwOTY0Y2ViYThiOGZkM2NkNyA9IEwucG9wdXAoeyJtYXhXaWR0aCI6ICIxMDAlIn0pOwoKICAgICAgICAKICAgICAgICAgICAgdmFyIGh0bWxfOGZjZGFmZjJmMjgyNDgxNzgwMzk3OWRhMDkwNjY2NGEgPSAkKGA8ZGl2IGlkPSJodG1sXzhmY2RhZmYyZjI4MjQ4MTc4MDM5NzlkYTA5MDY2NjRhIiBzdHlsZT0id2lkdGg6IDEwMC4wJTsgaGVpZ2h0OiAxMDAuMCU7Ij48Yj5CcmFuZGVuYnVyZ2VyIFRvcjwvYj48YnIvPihQYXJpc2VyIFBsYXR6LCAxMDExNyBCZXJsaW4sIEdlcm1hbnkpPC9kaXY+YClbMF07CiAgICAgICAgICAgIHBvcHVwX2JkNTNjNjM4OTVhOTQ1ZDA5NjRjZWJhOGI4ZmQzY2Q3LnNldENvbnRlbnQoaHRtbF84ZmNkYWZmMmYyODI0ODE3ODAzOTc5ZGEwOTA2NjY0YSk7CiAgICAgICAgCgogICAgICAgIG1hcmtlcl82YTQ3ZjRjYjFiMGY0YzhkYjBiOTkxN2E0MGZhYTkxZC5iaW5kUG9wdXAocG9wdXBfYmQ1M2M2Mzg5NWE5NDVkMDk2NGNlYmE4YjhmZDNjZDcpCiAgICAgICAgOwoKICAgICAgICAKICAgIAogICAgCiAgICAgICAgICAgIG1hcmtlcl82YTQ3ZjRjYjFiMGY0YzhkYjBiOTkxN2E0MGZhYTkxZC5iaW5kVG9vbHRpcCgKICAgICAgICAgICAgICAgIGA8ZGl2PgogICAgICAgICAgICAgICAgICAgICBCcmFuZGVuYnVyZ2VyIFRvcgogICAgICAgICAgICAgICAgIDwvZGl2PmAsCiAgICAgICAgICAgICAgICB7InN0aWNreSI6IHRydWV9CiAgICAgICAgICAgICk7CiAgICAgICAgCiAgICAKICAgICAgICAgICAgdmFyIG1hcmtlcl82N2NkODQwYjE3YTA0MTBmYTVhMTIyZTg0MGRlNzNhMyA9IEwubWFya2VyKAogICAgICAgICAgICAgICAgWzUyLjUwNzQ0MzQsIDEzLjM5MDM5MTNdLAogICAgICAgICAgICAgICAge30KICAgICAgICAgICAgKS5hZGRUbyhtYXBfYzE1OWI0ZDg5NTA1NDFmNWE0ZTVhYTljNWM5MjcxZDMpOwogICAgICAgIAogICAgCiAgICAgICAgICAgIHZhciBpY29uXzBjOTBkZWI3MzA2MjQ2OWFhNTFhNjY3ZjhiNWNjMjg3ID0gTC5Bd2Vzb21lTWFya2Vycy5pY29uKAogICAgICAgICAgICAgICAgeyJleHRyYUNsYXNzZXMiOiAiZmEtcm90YXRlLTAiLCAiaWNvbiI6ICJpbmZvLXNpZ24iLCAiaWNvbkNvbG9yIjogIndoaXRlIiwgIm1hcmtlckNvbG9yIjogImJsdWUiLCAicHJlZml4IjogImdseXBoaWNvbiJ9CiAgICAgICAgICAgICk7CiAgICAgICAgICAgIG1hcmtlcl82N2NkODQwYjE3YTA0MTBmYTVhMTIyZTg0MGRlNzNhMy5zZXRJY29uKGljb25fMGM5MGRlYjczMDYyNDY5YWE1MWE2NjdmOGI1Y2MyODcpOwogICAgICAgIAogICAgCiAgICAgICAgdmFyIHBvcHVwXzQzYTIxNjM1N2IzYzRmMDY5NzY0N2I4NTliOTk5YzUyID0gTC5wb3B1cCh7Im1heFdpZHRoIjogIjEwMCUifSk7CgogICAgICAgIAogICAgICAgICAgICB2YXIgaHRtbF81YzY1NTFmYjc5ZGQ0ZGU5YjJhYzQwNTZjNzA0MDkzYSA9ICQoYDxkaXYgaWQ9Imh0bWxfNWM2NTUxZmI3OWRkNGRlOWIyYWM0MDU2YzcwNDA5M2EiIHN0eWxlPSJ3aWR0aDogMTAwLjAlOyBoZWlnaHQ6IDEwMC4wJTsiPjxiPkNoZWNrcG9pbnQgQ2hhcmxpZTwvYj48YnIvPihGcmllZHJpY2hzdHJhw59lIDQzLTQ1LCAxMDExNyBCZXJsaW4sIEdlcm1hbnkpPC9kaXY+YClbMF07CiAgICAgICAgICAgIHBvcHVwXzQzYTIxNjM1N2IzYzRmMDY5NzY0N2I4NTliOTk5YzUyLnNldENvbnRlbnQoaHRtbF81YzY1NTFmYjc5ZGQ0ZGU5YjJhYzQwNTZjNzA0MDkzYSk7CiAgICAgICAgCgogICAgICAgIG1hcmtlcl82N2NkODQwYjE3YTA0MTBmYTVhMTIyZTg0MGRlNzNhMy5iaW5kUG9wdXAocG9wdXBfNDNhMjE2MzU3YjNjNGYwNjk3NjQ3Yjg1OWI5OTljNTIpCiAgICAgICAgOwoKICAgICAgICAKICAgIAogICAgCiAgICAgICAgICAgIG1hcmtlcl82N2NkODQwYjE3YTA0MTBmYTVhMTIyZTg0MGRlNzNhMy5iaW5kVG9vbHRpcCgKICAgICAgICAgICAgICAgIGA8ZGl2PgogICAgICAgICAgICAgICAgICAgICBDaGVja3BvaW50IENoYXJsaWUKICAgICAgICAgICAgICAgICA8L2Rpdj5gLAogICAgICAgICAgICAgICAgeyJzdGlja3kiOiB0cnVlfQogICAgICAgICAgICApOwogICAgICAgIAogICAgCiAgICAgICAgICAgIHZhciBtYXJrZXJfN2QxNjc2NjhkNDI3NDE0NWIzMjBlZTQzODU3MTkzNGIgPSBMLm1hcmtlcigKICAgICAgICAgICAgICAgIFs1Mi40OTkwMDQ3OTk5OTk5OSwgMTMuNDE4MzIwMV0sCiAgICAgICAgICAgICAgICB7fQogICAgICAgICAgICApLmFkZFRvKG1hcF9jMTU5YjRkODk1MDU0MWY1YTRlNWFhOWM1YzkyNzFkMyk7CiAgICAgICAgCiAgICAKICAgICAgICAgICAgdmFyIGljb25fYTNmZmJlMTM0NTQ5NDQwYjhlZGIzMDdmMGJhNTEwMjAgPSBMLkF3ZXNvbWVNYXJrZXJzLmljb24oCiAgICAgICAgICAgICAgICB7ImV4dHJhQ2xhc3NlcyI6ICJmYS1yb3RhdGUtMCIsICJpY29uIjogImluZm8tc2lnbiIsICJpY29uQ29sb3IiOiAid2hpdGUiLCAibWFya2VyQ29sb3IiOiAiYmx1ZSIsICJwcmVmaXgiOiAiZ2x5cGhpY29uIn0KICAgICAgICAgICAgKTsKICAgICAgICAgICAgbWFya2VyXzdkMTY3NjY4ZDQyNzQxNDViMzIwZWU0Mzg1NzE5MzRiLnNldEljb24oaWNvbl9hM2ZmYmUxMzQ1NDk0NDBiOGVkYjMwN2YwYmE1MTAyMCk7CiAgICAgICAgCiAgICAKICAgICAgICB2YXIgcG9wdXBfNmQ0YjgzYTcwODI4NGRiMmIzNTRmOTkxOGYyODZlMDMgPSBMLnBvcHVwKHsibWF4V2lkdGgiOiAiMTAwJSJ9KTsKCiAgICAgICAgCiAgICAgICAgICAgIHZhciBodG1sXzA2Y2RmMDkxNjE2NTQ5NjZiYzZmNWUwMjEwMzAyNGY4ID0gJChgPGRpdiBpZD0iaHRtbF8wNmNkZjA5MTYxNjU0OTY2YmM2ZjVlMDIxMDMwMjRmOCIgc3R5bGU9IndpZHRoOiAxMDAuMCU7IGhlaWdodDogMTAwLjAlOyI+PGI+S290dGJ1c3NlciBUb3I8L2I+PGJyLz4oS290dGJ1c3NlciBUb3IsIDEwOTk5IEJlcmxpbiwgR2VybWFueSk8L2Rpdj5gKVswXTsKICAgICAgICAgICAgcG9wdXBfNmQ0YjgzYTcwODI4NGRiMmIzNTRmOTkxOGYyODZlMDMuc2V0Q29udGVudChodG1sXzA2Y2RmMDkxNjE2NTQ5NjZiYzZmNWUwMjEwMzAyNGY4KTsKICAgICAgICAKCiAgICAgICAgbWFya2VyXzdkMTY3NjY4ZDQyNzQxNDViMzIwZWU0Mzg1NzE5MzRiLmJpbmRQb3B1cChwb3B1cF82ZDRiODNhNzA4Mjg0ZGIyYjM1NGY5OTE4ZjI4NmUwMykKICAgICAgICA7CgogICAgICAgIAogICAgCiAgICAKICAgICAgICAgICAgbWFya2VyXzdkMTY3NjY4ZDQyNzQxNDViMzIwZWU0Mzg1NzE5MzRiLmJpbmRUb29sdGlwKAogICAgICAgICAgICAgICAgYDxkaXY+CiAgICAgICAgICAgICAgICAgICAgIEtvdHRidXNzZXIgVG9yCiAgICAgICAgICAgICAgICAgPC9kaXY+YCwKICAgICAgICAgICAgICAgIHsic3RpY2t5IjogdHJ1ZX0KICAgICAgICAgICAgKTsKICAgICAgICAKICAgIAogICAgICAgICAgICB2YXIgbWFya2VyX2NhYWQ5NTM1NTYzZjRkNjc5OGZiOTE5MWRmOWY4ODgyID0gTC5tYXJrZXIoCiAgICAgICAgICAgICAgICBbNTIuNTQyNCwgMTMuNDAzMzUyXSwKICAgICAgICAgICAgICAgIHt9CiAgICAgICAgICAgICkuYWRkVG8obWFwX2MxNTliNGQ4OTUwNTQxZjVhNGU1YWE5YzVjOTI3MWQzKTsKICAgICAgICAKICAgIAogICAgICAgICAgICB2YXIgaWNvbl9hYmExMzBkYzIwODU0YTc0Yjc5ZjVlMWQwOGMzMjljZSA9IEwuQXdlc29tZU1hcmtlcnMuaWNvbigKICAgICAgICAgICAgICAgIHsiZXh0cmFDbGFzc2VzIjogImZhLXJvdGF0ZS0wIiwgImljb24iOiAiaW5mby1zaWduIiwgImljb25Db2xvciI6ICJ3aGl0ZSIsICJtYXJrZXJDb2xvciI6ICJibHVlIiwgInByZWZpeCI6ICJnbHlwaGljb24ifQogICAgICAgICAgICApOwogICAgICAgICAgICBtYXJrZXJfY2FhZDk1MzU1NjNmNGQ2Nzk4ZmI5MTkxZGY5Zjg4ODIuc2V0SWNvbihpY29uX2FiYTEzMGRjMjA4NTRhNzRiNzlmNWUxZDA4YzMyOWNlKTsKICAgICAgICAKICAgIAogICAgICAgIHZhciBwb3B1cF8wMTA0NWIzNmVmNjg0NjE2Yjk0MDcwNjZlYWM3OWQyNiA9IEwucG9wdXAoeyJtYXhXaWR0aCI6ICIxMDAlIn0pOwoKICAgICAgICAKICAgICAgICAgICAgdmFyIGh0bWxfZWFlZjA2NTgxMmZmNGM2ZGJmZWY1ZWQ1NjNhNmVhYmIgPSAkKGA8ZGl2IGlkPSJodG1sX2VhZWYwNjU4MTJmZjRjNmRiZmVmNWVkNTYzYTZlYWJiIiBzdHlsZT0id2lkdGg6IDEwMC4wJTsgaGVpZ2h0OiAxMDAuMCU7Ij48Yj5NYXVlcnBhcms8L2I+PGJyLz4oTWF1ZXJwYXJrLCBHbGVpbXN0cmHDn2UgNTUsIDEwNDM3IEJlcmxpbiwgR2VybWFueSk8L2Rpdj5gKVswXTsKICAgICAgICAgICAgcG9wdXBfMDEwNDViMzZlZjY4NDYxNmI5NDA3MDY2ZWFjNzlkMjYuc2V0Q29udGVudChodG1sX2VhZWYwNjU4MTJmZjRjNmRiZmVmNWVkNTYzYTZlYWJiKTsKICAgICAgICAKCiAgICAgICAgbWFya2VyX2NhYWQ5NTM1NTYzZjRkNjc5OGZiOTE5MWRmOWY4ODgyLmJpbmRQb3B1cChwb3B1cF8wMTA0NWIzNmVmNjg0NjE2Yjk0MDcwNjZlYWM3OWQyNikKICAgICAgICA7CgogICAgICAgIAogICAgCiAgICAKICAgICAgICAgICAgbWFya2VyX2NhYWQ5NTM1NTYzZjRkNjc5OGZiOTE5MWRmOWY4ODgyLmJpbmRUb29sdGlwKAogICAgICAgICAgICAgICAgYDxkaXY+CiAgICAgICAgICAgICAgICAgICAgIE1hdWVycGFyawogICAgICAgICAgICAgICAgIDwvZGl2PmAsCiAgICAgICAgICAgICAgICB7InN0aWNreSI6IHRydWV9CiAgICAgICAgICAgICk7CiAgICAgICAgCiAgICAKICAgICAgICAgICAgdmFyIG1hcmtlcl8zZTM0MmRmZTI4MTA0MDQ0YTM0MThiZjg5NWI1NTliNCA9IEwubWFya2VyKAogICAgICAgICAgICAgICAgWzUyLjUxNDU0MzQsIDEzLjM1MDExODldLAogICAgICAgICAgICAgICAge30KICAgICAgICAgICAgKS5hZGRUbyhtYXBfYzE1OWI0ZDg5NTA1NDFmNWE0ZTVhYTljNWM5MjcxZDMpOwogICAgICAgIAogICAgCiAgICAgICAgICAgIHZhciBpY29uXzUzMThhZDMwODYyMzRlZjZhOTNhODkzZTA5OGExNzZmID0gTC5Bd2Vzb21lTWFya2Vycy5pY29uKAogICAgICAgICAgICAgICAgeyJleHRyYUNsYXNzZXMiOiAiZmEtcm90YXRlLTAiLCAiaWNvbiI6ICJpbmZvLXNpZ24iLCAiaWNvbkNvbG9yIjogIndoaXRlIiwgIm1hcmtlckNvbG9yIjogImJsdWUiLCAicHJlZml4IjogImdseXBoaWNvbiJ9CiAgICAgICAgICAgICk7CiAgICAgICAgICAgIG1hcmtlcl8zZTM0MmRmZTI4MTA0MDQ0YTM0MThiZjg5NWI1NTliNC5zZXRJY29uKGljb25fNTMxOGFkMzA4NjIzNGVmNmE5M2E4OTNlMDk4YTE3NmYpOwogICAgICAgIAogICAgCiAgICAgICAgdmFyIHBvcHVwX2NhZmI3ZDc2ODBkZjQ2YjE4MTk4ZjRmNzlmMDYzNzcwID0gTC5wb3B1cCh7Im1heFdpZHRoIjogIjEwMCUifSk7CgogICAgICAgIAogICAgICAgICAgICB2YXIgaHRtbF83NDVkZGFlNWM5OWY0Nzk0YWU5YTdjNDVmMmE4NzlkOSA9ICQoYDxkaXYgaWQ9Imh0bWxfNzQ1ZGRhZTVjOTlmNDc5NGFlOWE3YzQ1ZjJhODc5ZDkiIHN0eWxlPSJ3aWR0aDogMTAwLjAlOyBoZWlnaHQ6IDEwMC4wJTsiPjxiPlNpZWdlc3PDpHVsZTwvYj48YnIvPihHcm/Dn2VyIFN0ZXJuLCAxMDU1NyBCZXJsaW4sIEdlcm1hbnkpPC9kaXY+YClbMF07CiAgICAgICAgICAgIHBvcHVwX2NhZmI3ZDc2ODBkZjQ2YjE4MTk4ZjRmNzlmMDYzNzcwLnNldENvbnRlbnQoaHRtbF83NDVkZGFlNWM5OWY0Nzk0YWU5YTdjNDVmMmE4NzlkOSk7CiAgICAgICAgCgogICAgICAgIG1hcmtlcl8zZTM0MmRmZTI4MTA0MDQ0YTM0MThiZjg5NWI1NTliNC5iaW5kUG9wdXAocG9wdXBfY2FmYjdkNzY4MGRmNDZiMTgxOThmNGY3OWYwNjM3NzApCiAgICAgICAgOwoKICAgICAgICAKICAgIAogICAgCiAgICAgICAgICAgIG1hcmtlcl8zZTM0MmRmZTI4MTA0MDQ0YTM0MThiZjg5NWI1NTliNC5iaW5kVG9vbHRpcCgKICAgICAgICAgICAgICAgIGA8ZGl2PgogICAgICAgICAgICAgICAgICAgICBTaWVnZXNzw6R1bGUKICAgICAgICAgICAgICAgICA8L2Rpdj5gLAogICAgICAgICAgICAgICAgeyJzdGlja3kiOiB0cnVlfQogICAgICAgICAgICApOwogICAgICAgIAogICAgCiAgICAgICAgICAgIHZhciBtYXJrZXJfN2RmMDU5MGNkZWYxNDliYzllZmNmZTIwNWU4NGJmNDEgPSBMLm1hcmtlcigKICAgICAgICAgICAgICAgIFs1Mi41MTg2MjAyLCAxMy4zNzYxODcyXSwKICAgICAgICAgICAgICAgIHt9CiAgICAgICAgICAgICkuYWRkVG8obWFwX2MxNTliNGQ4OTUwNTQxZjVhNGU1YWE5YzVjOTI3MWQzKTsKICAgICAgICAKICAgIAogICAgICAgICAgICB2YXIgaWNvbl8xYmYyZWU4MTMxYTE0M2M2OGNiYmIyZWVkM2Y2OTRkNyA9IEwuQXdlc29tZU1hcmtlcnMuaWNvbigKICAgICAgICAgICAgICAgIHsiZXh0cmFDbGFzc2VzIjogImZhLXJvdGF0ZS0wIiwgImljb24iOiAiaW5mby1zaWduIiwgImljb25Db2xvciI6ICJ3aGl0ZSIsICJtYXJrZXJDb2xvciI6ICJibHVlIiwgInByZWZpeCI6ICJnbHlwaGljb24ifQogICAgICAgICAgICApOwogICAgICAgICAgICBtYXJrZXJfN2RmMDU5MGNkZWYxNDliYzllZmNmZTIwNWU4NGJmNDEuc2V0SWNvbihpY29uXzFiZjJlZTgxMzFhMTQzYzY4Y2JiYjJlZWQzZjY5NGQ3KTsKICAgICAgICAKICAgIAogICAgICAgIHZhciBwb3B1cF83OTBiM2QzYmJhOTc0YjVkODMzMTY5NzU1OTA2YzJkOCA9IEwucG9wdXAoeyJtYXhXaWR0aCI6ICIxMDAlIn0pOwoKICAgICAgICAKICAgICAgICAgICAgdmFyIGh0bWxfOTRiNTI4N2E3MjRiNDVhMzg2ZDkwZWEwMjA2MzhmMTIgPSAkKGA8ZGl2IGlkPSJodG1sXzk0YjUyODdhNzI0YjQ1YTM4NmQ5MGVhMDIwNjM4ZjEyIiBzdHlsZT0id2lkdGg6IDEwMC4wJTsgaGVpZ2h0OiAxMDAuMCU7Ij48Yj5SZWljaHN0YWc8L2I+PGJyLz4oUGxhdHogZGVyIFJlcHVibGlrIDEsIDExMDExIEJlcmxpbiwgR2VybWFueSk8L2Rpdj5gKVswXTsKICAgICAgICAgICAgcG9wdXBfNzkwYjNkM2JiYTk3NGI1ZDgzMzE2OTc1NTkwNmMyZDguc2V0Q29udGVudChodG1sXzk0YjUyODdhNzI0YjQ1YTM4NmQ5MGVhMDIwNjM4ZjEyKTsKICAgICAgICAKCiAgICAgICAgbWFya2VyXzdkZjA1OTBjZGVmMTQ5YmM5ZWZjZmUyMDVlODRiZjQxLmJpbmRQb3B1cChwb3B1cF83OTBiM2QzYmJhOTc0YjVkODMzMTY5NzU1OTA2YzJkOCkKICAgICAgICA7CgogICAgICAgIAogICAgCiAgICAKICAgICAgICAgICAgbWFya2VyXzdkZjA1OTBjZGVmMTQ5YmM5ZWZjZmUyMDVlODRiZjQxLmJpbmRUb29sdGlwKAogICAgICAgICAgICAgICAgYDxkaXY+CiAgICAgICAgICAgICAgICAgICAgIFJlaWNoc3RhZwogICAgICAgICAgICAgICAgIDwvZGl2PmAsCiAgICAgICAgICAgICAgICB7InN0aWNreSI6IHRydWV9CiAgICAgICAgICAgICk7CiAgICAgICAgCiAgICAKICAgICAgICAgICAgdmFyIG1hcmtlcl83YTZiYzljYTI5Yzc0M2VhYjQ1YTliZjdmNGI4ZjA0MyA9IEwubWFya2VyKAogICAgICAgICAgICAgICAgWzUyLjUyNzYwMzUsIDEzLjQxNTQ3MjddLAogICAgICAgICAgICAgICAge30KICAgICAgICAgICAgKS5hZGRUbyhtYXBfYzE1OWI0ZDg5NTA1NDFmNWE0ZTVhYTljNWM5MjcxZDMpOwogICAgICAgIAogICAgCiAgICAgICAgICAgIHZhciBpY29uX2E2OTEzN2EzYWI5MTQ1ZmM4MGZiYmEwY2Q4NDdiNTU0ID0gTC5Bd2Vzb21lTWFya2Vycy5pY29uKAogICAgICAgICAgICAgICAgeyJleHRyYUNsYXNzZXMiOiAiZmEtcm90YXRlLTAiLCAiaWNvbiI6ICJpbmZvLXNpZ24iLCAiaWNvbkNvbG9yIjogIndoaXRlIiwgIm1hcmtlckNvbG9yIjogImJsdWUiLCAicHJlZml4IjogImdseXBoaWNvbiJ9CiAgICAgICAgICAgICk7CiAgICAgICAgICAgIG1hcmtlcl83YTZiYzljYTI5Yzc0M2VhYjQ1YTliZjdmNGI4ZjA0My5zZXRJY29uKGljb25fYTY5MTM3YTNhYjkxNDVmYzgwZmJiYTBjZDg0N2I1NTQpOwogICAgICAgIAogICAgCiAgICAgICAgdmFyIHBvcHVwXzM4ZTIwZmFjNTk3MjRiZjE4MDJiMzg1ZjJkMmM0ZDQzID0gTC5wb3B1cCh7Im1heFdpZHRoIjogIjEwMCUifSk7CgogICAgICAgIAogICAgICAgICAgICB2YXIgaHRtbF8zMmRlMTk0ZDkxNWY0M2JhOTVmZGQ2NDk4ZTdjMDhjNCA9ICQoYDxkaXYgaWQ9Imh0bWxfMzJkZTE5NGQ5MTVmNDNiYTk1ZmRkNjQ5OGU3YzA4YzQiIHN0eWxlPSJ3aWR0aDogMTAwLjAlOyBoZWlnaHQ6IDEwMC4wJTsiPjxiPlNvaG8gSG91c2UgQmVybGluPC9iPjxici8+KFRvcnN0cmHDn2UgMSwgMTAxMTkgQmVybGluLCBHZXJtYW55KTwvZGl2PmApWzBdOwogICAgICAgICAgICBwb3B1cF8zOGUyMGZhYzU5NzI0YmYxODAyYjM4NWYyZDJjNGQ0My5zZXRDb250ZW50KGh0bWxfMzJkZTE5NGQ5MTVmNDNiYTk1ZmRkNjQ5OGU3YzA4YzQpOwogICAgICAgIAoKICAgICAgICBtYXJrZXJfN2E2YmM5Y2EyOWM3NDNlYWI0NWE5YmY3ZjRiOGYwNDMuYmluZFBvcHVwKHBvcHVwXzM4ZTIwZmFjNTk3MjRiZjE4MDJiMzg1ZjJkMmM0ZDQzKQogICAgICAgIDsKCiAgICAgICAgCiAgICAKICAgIAogICAgICAgICAgICBtYXJrZXJfN2E2YmM5Y2EyOWM3NDNlYWI0NWE5YmY3ZjRiOGYwNDMuYmluZFRvb2x0aXAoCiAgICAgICAgICAgICAgICBgPGRpdj4KICAgICAgICAgICAgICAgICAgICAgU29obyBIb3VzZSBCZXJsaW4KICAgICAgICAgICAgICAgICA8L2Rpdj5gLAogICAgICAgICAgICAgICAgeyJzdGlja3kiOiB0cnVlfQogICAgICAgICAgICApOwogICAgICAgIAogICAgCiAgICAgICAgICAgIHZhciBtYXJrZXJfMmM0MGEwMzRkM2UxNGVlZGE3MWYyNzVhZjZlMGJlMGQgPSBMLm1hcmtlcigKICAgICAgICAgICAgICAgIFs1Mi40NzUzOTA5OTk5OTk5OSwgMTMuNDAxODkzXSwKICAgICAgICAgICAgICAgIHt9CiAgICAgICAgICAgICkuYWRkVG8obWFwX2MxNTliNGQ4OTUwNTQxZjVhNGU1YWE5YzVjOTI3MWQzKTsKICAgICAgICAKICAgIAogICAgICAgICAgICB2YXIgaWNvbl83YzVjNjJjMzQ5ODY0NzU5OWI4Yzc2MWM0MDU3MWY2OCA9IEwuQXdlc29tZU1hcmtlcnMuaWNvbigKICAgICAgICAgICAgICAgIHsiZXh0cmFDbGFzc2VzIjogImZhLXJvdGF0ZS0wIiwgImljb24iOiAiaW5mby1zaWduIiwgImljb25Db2xvciI6ICJ3aGl0ZSIsICJtYXJrZXJDb2xvciI6ICJibHVlIiwgInByZWZpeCI6ICJnbHlwaGljb24ifQogICAgICAgICAgICApOwogICAgICAgICAgICBtYXJrZXJfMmM0MGEwMzRkM2UxNGVlZGE3MWYyNzVhZjZlMGJlMGQuc2V0SWNvbihpY29uXzdjNWM2MmMzNDk4NjQ3NTk5YjhjNzYxYzQwNTcxZjY4KTsKICAgICAgICAKICAgIAogICAgICAgIHZhciBwb3B1cF9iZWNjOWJmNDQzY2Y0ZGZjYjE0YzhlMTk2ZjdjYmJiYSA9IEwucG9wdXAoeyJtYXhXaWR0aCI6ICIxMDAlIn0pOwoKICAgICAgICAKICAgICAgICAgICAgdmFyIGh0bWxfMmM4N2MzYTdhYjYzNGQzNWI3NjI3MTE1NzBlYjc0ZDggPSAkKGA8ZGl2IGlkPSJodG1sXzJjODdjM2E3YWI2MzRkMzViNzYyNzExNTcwZWI3NGQ4IiBzdHlsZT0id2lkdGg6IDEwMC4wJTsgaGVpZ2h0OiAxMDAuMCU7Ij48Yj5UZW1wZWxob2ZlciBGZWxkPC9iPjxici8+KFRlbXBlbGhvZmVyIEZlbGQsIFRlbXBlbGhvZmVyIERhbW0sIDEyMTAxIEJlcmxpbiwgR2VybWFueSk8L2Rpdj5gKVswXTsKICAgICAgICAgICAgcG9wdXBfYmVjYzliZjQ0M2NmNGRmY2IxNGM4ZTE5NmY3Y2JiYmEuc2V0Q29udGVudChodG1sXzJjODdjM2E3YWI2MzRkMzViNzYyNzExNTcwZWI3NGQ4KTsKICAgICAgICAKCiAgICAgICAgbWFya2VyXzJjNDBhMDM0ZDNlMTRlZWRhNzFmMjc1YWY2ZTBiZTBkLmJpbmRQb3B1cChwb3B1cF9iZWNjOWJmNDQzY2Y0ZGZjYjE0YzhlMTk2ZjdjYmJiYSkKICAgICAgICA7CgogICAgICAgIAogICAgCiAgICAKICAgICAgICAgICAgbWFya2VyXzJjNDBhMDM0ZDNlMTRlZWRhNzFmMjc1YWY2ZTBiZTBkLmJpbmRUb29sdGlwKAogICAgICAgICAgICAgICAgYDxkaXY+CiAgICAgICAgICAgICAgICAgICAgIFRlbXBlbGhvZmVyIEZlbGQKICAgICAgICAgICAgICAgICA8L2Rpdj5gLAogICAgICAgICAgICAgICAgeyJzdGlja3kiOiB0cnVlfQogICAgICAgICAgICApOwogICAgICAgIAogICAgCiAgICAgICAgICAgIHZhciBtYXJrZXJfMTY2MDk4MTNmZDE3NDY4N2FmNWI0NTBmYTU4NWJiMTEgPSBMLm1hcmtlcigKICAgICAgICAgICAgICAgIFs1Mi41MjAxNjI3OTk5OTk5OSwgMTMuMzY5MjcwMV0sCiAgICAgICAgICAgICAgICB7fQogICAgICAgICAgICApLmFkZFRvKG1hcF9jMTU5YjRkODk1MDU0MWY1YTRlNWFhOWM1YzkyNzFkMyk7CiAgICAgICAgCiAgICAKICAgICAgICAgICAgdmFyIGljb25fYWM4MTk5ZjIwYTUzNDc1NDljNmZhZTlmODBmY2I3ODAgPSBMLkF3ZXNvbWVNYXJrZXJzLmljb24oCiAgICAgICAgICAgICAgICB7ImV4dHJhQ2xhc3NlcyI6ICJmYS1yb3RhdGUtMCIsICJpY29uIjogImluZm8tc2lnbiIsICJpY29uQ29sb3IiOiAid2hpdGUiLCAibWFya2VyQ29sb3IiOiAib3JhbmdlIiwgInByZWZpeCI6ICJnbHlwaGljb24ifQogICAgICAgICAgICApOwogICAgICAgICAgICBtYXJrZXJfMTY2MDk4MTNmZDE3NDY4N2FmNWI0NTBmYTU4NWJiMTEuc2V0SWNvbihpY29uX2FjODE5OWYyMGE1MzQ3NTQ5YzZmYWU5ZjgwZmNiNzgwKTsKICAgICAgICAKICAgIAogICAgICAgIHZhciBwb3B1cF85ODFhMjlhNTMyYjQ0MjQ5YjQyOGFkYmMyN2ZmOGY2YyA9IEwucG9wdXAoeyJtYXhXaWR0aCI6ICIxMDAlIn0pOwoKICAgICAgICAKICAgICAgICAgICAgdmFyIGh0bWxfMzQwNzNmNWQ2OWM2NDUxYTgxMmMxM2IwMDUzMWU0MDYgPSAkKGA8ZGl2IGlkPSJodG1sXzM0MDczZjVkNjljNjQ1MWE4MTJjMTNiMDA1MzFlNDA2IiBzdHlsZT0id2lkdGg6IDEwMC4wJTsgaGVpZ2h0OiAxMDAuMCU7Ij48Yj5CdW5kZXNrYW56bGVyYW10PC9iPjxici8+KFdpbGx5LUJyYW5kdC1TdHJhw59lIDEsIDEwNTU3IEJlcmxpbiwgR2VybWFueSk8L2Rpdj5gKVswXTsKICAgICAgICAgICAgcG9wdXBfOTgxYTI5YTUzMmI0NDI0OWI0MjhhZGJjMjdmZjhmNmMuc2V0Q29udGVudChodG1sXzM0MDczZjVkNjljNjQ1MWE4MTJjMTNiMDA1MzFlNDA2KTsKICAgICAgICAKCiAgICAgICAgbWFya2VyXzE2NjA5ODEzZmQxNzQ2ODdhZjViNDUwZmE1ODViYjExLmJpbmRQb3B1cChwb3B1cF85ODFhMjlhNTMyYjQ0MjQ5YjQyOGFkYmMyN2ZmOGY2YykKICAgICAgICA7CgogICAgICAgIAogICAgCiAgICAKICAgICAgICAgICAgbWFya2VyXzE2NjA5ODEzZmQxNzQ2ODdhZjViNDUwZmE1ODViYjExLmJpbmRUb29sdGlwKAogICAgICAgICAgICAgICAgYDxkaXY+CiAgICAgICAgICAgICAgICAgICAgIEJ1bmRlc2thbnpsZXJhbXQKICAgICAgICAgICAgICAgICA8L2Rpdj5gLAogICAgICAgICAgICAgICAgeyJzdGlja3kiOiB0cnVlfQogICAgICAgICAgICApOwogICAgICAgIAogICAgCiAgICAgICAgICAgIHZhciBtYXJrZXJfMGJkOTc3ODVhNWQ5NDI2NzkyYjZlMzM2MTQzMmY3MjQgPSBMLm1hcmtlcigKICAgICAgICAgICAgICAgIFs1Mi41MTQ2OTcxLCAxMy4yMzk0OTg3XSwKICAgICAgICAgICAgICAgIHt9CiAgICAgICAgICAgICkuYWRkVG8obWFwX2MxNTliNGQ4OTUwNTQxZjVhNGU1YWE5YzVjOTI3MWQzKTsKICAgICAgICAKICAgIAogICAgICAgICAgICB2YXIgaWNvbl81MmFiZGE4OWQxNmQ0OTNlOTUzODEzYzgxM2JmYjMxNyA9IEwuQXdlc29tZU1hcmtlcnMuaWNvbigKICAgICAgICAgICAgICAgIHsiZXh0cmFDbGFzc2VzIjogImZhLXJvdGF0ZS0wIiwgImljb24iOiAiaW5mby1zaWduIiwgImljb25Db2xvciI6ICJ3aGl0ZSIsICJtYXJrZXJDb2xvciI6ICJvcmFuZ2UiLCAicHJlZml4IjogImdseXBoaWNvbiJ9CiAgICAgICAgICAgICk7CiAgICAgICAgICAgIG1hcmtlcl8wYmQ5Nzc4NWE1ZDk0MjY3OTJiNmUzMzYxNDMyZjcyNC5zZXRJY29uKGljb25fNTJhYmRhODlkMTZkNDkzZTk1MzgxM2M4MTNiZmIzMTcpOwogICAgICAgIAogICAgCiAgICAgICAgdmFyIHBvcHVwXzg3MTczZGVlOTJmNDQxYWNiMjBmN2M4ODc1YjVkZjkxID0gTC5wb3B1cCh7Im1heFdpZHRoIjogIjEwMCUifSk7CgogICAgICAgIAogICAgICAgICAgICB2YXIgaHRtbF8zZGI1ZTBiNzQ4Nzg0YTFjODY5NTMyNzg0MzYxNTZjMiA9ICQoYDxkaXYgaWQ9Imh0bWxfM2RiNWUwYjc0ODc4NGExYzg2OTUzMjc4NDM2MTU2YzIiIHN0eWxlPSJ3aWR0aDogMTAwLjAlOyBoZWlnaHQ6IDEwMC4wJTsiPjxiPk9seW1waWFzdGFkaW9uIEJlcmxpbjwvYj48YnIvPihPbHltcGlzY2hlciBQbGF0eiAzLCAxNDA1MyBCZXJsaW4sIEdlcm1hbnkpPC9kaXY+YClbMF07CiAgICAgICAgICAgIHBvcHVwXzg3MTczZGVlOTJmNDQxYWNiMjBmN2M4ODc1YjVkZjkxLnNldENvbnRlbnQoaHRtbF8zZGI1ZTBiNzQ4Nzg0YTFjODY5NTMyNzg0MzYxNTZjMik7CiAgICAgICAgCgogICAgICAgIG1hcmtlcl8wYmQ5Nzc4NWE1ZDk0MjY3OTJiNmUzMzYxNDMyZjcyNC5iaW5kUG9wdXAocG9wdXBfODcxNzNkZWU5MmY0NDFhY2IyMGY3Yzg4NzViNWRmOTEpCiAgICAgICAgOwoKICAgICAgICAKICAgIAogICAgCiAgICAgICAgICAgIG1hcmtlcl8wYmQ5Nzc4NWE1ZDk0MjY3OTJiNmUzMzYxNDMyZjcyNC5iaW5kVG9vbHRpcCgKICAgICAgICAgICAgICAgIGA8ZGl2PgogICAgICAgICAgICAgICAgICAgICBPbHltcGlhc3RhZGlvbiBCZXJsaW4KICAgICAgICAgICAgICAgICA8L2Rpdj5gLAogICAgICAgICAgICAgICAgeyJzdGlja3kiOiB0cnVlfQogICAgICAgICAgICApOwogICAgICAgIAogICAgCiAgICAgICAgICAgIHZhciBtYXJrZXJfOTA2YzdlNjc2Y2ZmNGNiNGI0NzE5YTU0YjBmMWE0NjkgPSBMLm1hcmtlcigKICAgICAgICAgICAgICAgIFs1Mi41MDUwMjIzOTk5OTk5OSwgMTMuNDM5Njk1Ml0sCiAgICAgICAgICAgICAgICB7fQogICAgICAgICAgICApLmFkZFRvKG1hcF9jMTU5YjRkODk1MDU0MWY1YTRlNWFhOWM1YzkyNzFkMyk7CiAgICAgICAgCiAgICAKICAgICAgICAgICAgdmFyIGljb25fYzZiMGNjM2MwYzcxNGIzODlmYjRlMzk1NmQ0ODhiNWQgPSBMLkF3ZXNvbWVNYXJrZXJzLmljb24oCiAgICAgICAgICAgICAgICB7ImV4dHJhQ2xhc3NlcyI6ICJmYS1yb3RhdGUtMCIsICJpY29uIjogImluZm8tc2lnbiIsICJpY29uQ29sb3IiOiAid2hpdGUiLCAibWFya2VyQ29sb3IiOiAib3JhbmdlIiwgInByZWZpeCI6ICJnbHlwaGljb24ifQogICAgICAgICAgICApOwogICAgICAgICAgICBtYXJrZXJfOTA2YzdlNjc2Y2ZmNGNiNGI0NzE5YTU0YjBmMWE0Njkuc2V0SWNvbihpY29uX2M2YjBjYzNjMGM3MTRiMzg5ZmI0ZTM5NTZkNDg4YjVkKTsKICAgICAgICAKICAgIAogICAgICAgIHZhciBwb3B1cF8zMDU3NWRkYWVlZTk0ODk5OGMzYzE1YTRlYjk1MmMzZiA9IEwucG9wdXAoeyJtYXhXaWR0aCI6ICIxMDAlIn0pOwoKICAgICAgICAKICAgICAgICAgICAgdmFyIGh0bWxfMzJiMDBkZjBmOTIxNGI4YjkxNmU2NDc5Mzg3N2YzNjIgPSAkKGA8ZGl2IGlkPSJodG1sXzMyYjAwZGYwZjkyMTRiOGI5MTZlNjQ3OTM4NzdmMzYyIiBzdHlsZT0id2lkdGg6IDEwMC4wJTsgaGVpZ2h0OiAxMDAuMCU7Ij48Yj5FYXN0IFNpZGUgR2FsbGVyeTwvYj48YnIvPihNw7xobGVuc3RyYcOfZSAzLTEwMCwgMTAyNDMgQmVybGluLCBHZXJtYW55KTwvZGl2PmApWzBdOwogICAgICAgICAgICBwb3B1cF8zMDU3NWRkYWVlZTk0ODk5OGMzYzE1YTRlYjk1MmMzZi5zZXRDb250ZW50KGh0bWxfMzJiMDBkZjBmOTIxNGI4YjkxNmU2NDc5Mzg3N2YzNjIpOwogICAgICAgIAoKICAgICAgICBtYXJrZXJfOTA2YzdlNjc2Y2ZmNGNiNGI0NzE5YTU0YjBmMWE0NjkuYmluZFBvcHVwKHBvcHVwXzMwNTc1ZGRhZWVlOTQ4OTk4YzNjMTVhNGViOTUyYzNmKQogICAgICAgIDsKCiAgICAgICAgCiAgICAKICAgIAogICAgICAgICAgICBtYXJrZXJfOTA2YzdlNjc2Y2ZmNGNiNGI0NzE5YTU0YjBmMWE0NjkuYmluZFRvb2x0aXAoCiAgICAgICAgICAgICAgICBgPGRpdj4KICAgICAgICAgICAgICAgICAgICAgRWFzdCBTaWRlIEdhbGxlcnkKICAgICAgICAgICAgICAgICA8L2Rpdj5gLAogICAgICAgICAgICAgICAgeyJzdGlja3kiOiB0cnVlfQogICAgICAgICAgICApOwogICAgICAgIAo8L3NjcmlwdD4= onload=\"this.contentDocument.open();this.contentDocument.write(atob(this.getAttribute('data-html')));this.contentDocument.close();\" allowfullscreen webkitallowfullscreen mozallowfullscreen></iframe></div></div>"
      ],
      "text/plain": [
       "<folium.folium.Map at 0x7f2c1dcb8d60>"
      ]
     },
     "execution_count": 43,
     "metadata": {},
     "output_type": "execute_result"
    }
   ],
   "source": [
    "berlin.show()"
   ]
  },
  {
   "cell_type": "markdown",
   "metadata": {},
   "source": [
    "## Distance Matrix"
   ]
  },
  {
   "cell_type": "markdown",
   "metadata": {},
   "source": [
    "Before we can find out the best order in which to visit all the sights, we must calculate the pairwise distances between all points. While Google also offers a [Directions API](https://developers.google.com/maps/documentation/directions/start) and a [Distance Matrix API](https://developers.google.com/maps/documentation/distance-matrix/start), we choose to calculate the air distances using the third-party library [geopy <img height=\"12\" style=\"display: inline-block\" src=\"../static/link/to_gh.png\">](https://github.com/geopy/geopy).\n",
    "\n",
    "**Q26**: Familiarize yourself with the [documentation](https://geopy.readthedocs.io/en/stable/) and install [geopy <img height=\"12\" style=\"display: inline-block\" src=\"../static/link/to_gh.png\">](https://github.com/geopy/geopy) with the `pip` command line tool!"
   ]
  },
  {
   "cell_type": "code",
   "execution_count": 44,
   "metadata": {},
   "outputs": [
    {
     "name": "stdout",
     "output_type": "stream",
     "text": [
      "Requirement already satisfied: geopy in /home/webartifex/repos/intro-to-python/.venv/lib/python3.8/site-packages (2.0.0)\n",
      "Requirement already satisfied: geographiclib<2,>=1.49 in /home/webartifex/repos/intro-to-python/.venv/lib/python3.8/site-packages (from geopy) (1.50)\n"
     ]
    }
   ],
   "source": [
    "!pip install geopy"
   ]
  },
  {
   "cell_type": "markdown",
   "metadata": {},
   "source": [
    "We use [geopy <img height=\"12\" style=\"display: inline-block\" src=\"../static/link/to_gh.png\">](https://github.com/geopy/geopy) primarily for converting the `latitude`-`longitude` coordinates into a [distance matrix <img height=\"12\" style=\"display: inline-block\" src=\"../static/link/to_wiki.png\">](https://en.wikipedia.org/wiki/Distance_matrix).\n",
    "\n",
    "Because the [earth is not flat <img height=\"12\" style=\"display: inline-block\" src=\"../static/link/to_wiki.png\">](https://en.wikipedia.org/wiki/Flat_Earth), [geopy <img height=\"12\" style=\"display: inline-block\" src=\"../static/link/to_gh.png\">](https://github.com/geopy/geopy) provides a `great_circle()` function that calculates the so-called [orthodromic distance <img height=\"12\" style=\"display: inline-block\" src=\"../static/link/to_wiki.png\">](https://en.wikipedia.org/wiki/Great-circle_distance) between two places on a sphere."
   ]
  },
  {
   "cell_type": "code",
   "execution_count": 45,
   "metadata": {},
   "outputs": [],
   "source": [
    "from geopy.distance import great_circle"
   ]
  },
  {
   "cell_type": "markdown",
   "metadata": {},
   "source": [
    "**Q27**: For quick reference, read the docstring of `great_circle()` and execute the code cells below to calculate the distance between the `arrival` and the `departure`!"
   ]
  },
  {
   "cell_type": "code",
   "execution_count": 46,
   "metadata": {},
   "outputs": [
    {
     "data": {
      "text/plain": [
       "\u001b[0;31mInit signature:\u001b[0m \u001b[0mgreat_circle\u001b[0m\u001b[0;34m(\u001b[0m\u001b[0;34m*\u001b[0m\u001b[0margs\u001b[0m\u001b[0;34m,\u001b[0m \u001b[0;34m**\u001b[0m\u001b[0mkwargs\u001b[0m\u001b[0;34m)\u001b[0m\u001b[0;34m\u001b[0m\u001b[0;34m\u001b[0m\u001b[0m\n",
       "\u001b[0;31mDocstring:\u001b[0m     \n",
       "Use spherical geometry to calculate the surface distance between two\n",
       "points.\n",
       "\n",
       "Set which radius of the earth to use by specifying a ``radius`` keyword\n",
       "argument. It must be in kilometers. The default is to use the module\n",
       "constant `EARTH_RADIUS`, which uses the average great-circle radius.\n",
       "\n",
       "Example::\n",
       "\n",
       "    >>> from geopy.distance import great_circle\n",
       "    >>> newport_ri = (41.49008, -71.312796)\n",
       "    >>> cleveland_oh = (41.499498, -81.695391)\n",
       "    >>> print(great_circle(newport_ri, cleveland_oh).miles)\n",
       "    536.997990696\n",
       "\u001b[0;31mFile:\u001b[0m           ~/repos/intro-to-python/.venv/lib/python3.8/site-packages/geopy/distance.py\n",
       "\u001b[0;31mType:\u001b[0m           ABCMeta\n",
       "\u001b[0;31mSubclasses:\u001b[0m     \n"
      ]
     },
     "metadata": {},
     "output_type": "display_data"
    }
   ],
   "source": [
    "great_circle?"
   ]
  },
  {
   "cell_type": "code",
   "execution_count": 47,
   "metadata": {},
   "outputs": [],
   "source": [
    "tegel = Place(arrival, client=api).sync_from_google()\n",
    "schoenefeld = Place(departure, client=api).sync_from_google()"
   ]
  },
  {
   "cell_type": "code",
   "execution_count": 48,
   "metadata": {},
   "outputs": [
    {
     "data": {
      "text/plain": [
       "Distance(25.370448366418135)"
      ]
     },
     "execution_count": 48,
     "metadata": {},
     "output_type": "execute_result"
    }
   ],
   "source": [
    "great_circle(tegel.location, schoenefeld.location)"
   ]
  },
  {
   "cell_type": "code",
   "execution_count": 49,
   "metadata": {},
   "outputs": [
    {
     "data": {
      "text/plain": [
       "25.370448366418135"
      ]
     },
     "execution_count": 49,
     "metadata": {},
     "output_type": "execute_result"
    }
   ],
   "source": [
    "great_circle(tegel.location, schoenefeld.location).km"
   ]
  },
  {
   "cell_type": "code",
   "execution_count": 50,
   "metadata": {},
   "outputs": [
    {
     "data": {
      "text/plain": [
       "25370.448366418135"
      ]
     },
     "execution_count": 50,
     "metadata": {},
     "output_type": "execute_result"
    }
   ],
   "source": [
    "great_circle(tegel.location, schoenefeld.location).meters"
   ]
  },
  {
   "cell_type": "markdown",
   "metadata": {},
   "source": [
    "### The `Place` Class (continued): Distance to another `Place`"
   ]
  },
  {
   "cell_type": "markdown",
   "metadata": {},
   "source": [
    "**Q28**: Finish the `distance_to()` method in the `Place` class that takes a `other` argument and returns the distance in meters! Adhere to the given docstring!"
   ]
  },
  {
   "cell_type": "code",
   "execution_count": 51,
   "metadata": {},
   "outputs": [],
   "source": [
    "class Place:\n",
    "    \"\"\"A place connected to the Google Maps Geocoding API.\"\"\"\n",
    "\n",
    "    # answers from above\n",
    "    def __init__(self, street_address, *, client):\n",
    "        \"\"\"Create a new place.\n",
    "\n",
    "        Args:\n",
    "            street_address (str): street address of the place\n",
    "            client (googlemaps.Client): access to the Google Maps Geocoding API\n",
    "        \"\"\"\n",
    "        self.name = street_address.split(\",\")[0]\n",
    "        self.address = street_address\n",
    "        self.client = client\n",
    "        self.latitude = None\n",
    "        self.longitude = None\n",
    "        self.place_id = None\n",
    "\n",
    "    def __repr__(self):\n",
    "        cls, name = self.__class__.__name__, self.name\n",
    "        synced = \" [SYNCED]\" if self.place_id else \"\"\n",
    "        return f\"<{cls}: {name}{synced}>\"\n",
    "\n",
    "    def sync_from_google(self):\n",
    "        \"\"\"Download the place's coordinates and other info.\"\"\"\n",
    "        response = self.client.geocode(self.address)\n",
    "        first_hit = response[0]\n",
    "        self.address = first_hit[\"formatted_address\"]\n",
    "        self.latitude = first_hit[\"geometry\"][\"location\"][\"lat\"]\n",
    "        self.longitude = first_hit[\"geometry\"][\"location\"][\"lng\"]\n",
    "        self.place_id = first_hit[\"place_id\"]\n",
    "        return self\n",
    "\n",
    "    @property\n",
    "    def location(self):\n",
    "        return self.latitude, self.longitude\n",
    "\n",
    "    @classmethod\n",
    "    def from_addresses(cls, addresses, *, client, sync=False):\n",
    "        \"\"\"Create new places in a batch.\n",
    "\n",
    "        Args:\n",
    "            addresses (iterable of str's): the street addresses of the places\n",
    "            client (googlemaps.Client): access to the Google Maps Geocoding API\n",
    "        Returns:\n",
    "            list of Places\n",
    "        \"\"\"\n",
    "        places = []\n",
    "        for address in addresses:\n",
    "            place = cls(address, client=client)\n",
    "            if sync:\n",
    "                place.sync_from_google()\n",
    "            places.append(place)\n",
    "        return places\n",
    "\n",
    "    def as_marker(self, color=\"blue\"):\n",
    "        \"\"\"Create a Marker representation of the place.\n",
    "\n",
    "        Args:\n",
    "            color (str): color of the marker, defaults to \"blue\"\n",
    "\n",
    "        Returns:\n",
    "            marker (folium.Marker)\n",
    "\n",
    "        Raises:\n",
    "            RuntimeError: if the place is not synchronized with\n",
    "                the Google Maps Geocoding API\n",
    "        \"\"\"\n",
    "        if not self.place_id:\n",
    "            raise RuntimeError(\"must synchronize with Google first\")\n",
    "        return folium.Marker(\n",
    "            location=self.location,\n",
    "            popup=f\"<b>{self.name}</b><br/>({self.address})\",\n",
    "            tooltip=self.name,\n",
    "            icon=folium.Icon(color=color),\n",
    "        )\n",
    "\n",
    "    # answer to Q28\n",
    "    def distance_to(self, other):\n",
    "        \"\"\"Calculate the distance to another place in meters.\n",
    "\n",
    "        Args:\n",
    "            other (Place): the other place to calculate the distance to\n",
    "\n",
    "        Returns:\n",
    "            distance (int)\n",
    "\n",
    "        Raises:\n",
    "            RuntimeError: if one of the places is not synchronized with\n",
    "                the Google Maps Geocoding API\n",
    "        \"\"\"\n",
    "        if not self.place_id or not other.place_id:\n",
    "            raise RuntimeError(\"must synchronize places with Google first\")\n",
    "        return int(great_circle(self.location, other.location).meters)"
   ]
  },
  {
   "cell_type": "markdown",
   "metadata": {},
   "source": [
    "**Q29**: Execute the code cells below to test the new feature!\n",
    "\n",
    "Note: If done right, object-oriented code reads almost like plain English."
   ]
  },
  {
   "cell_type": "code",
   "execution_count": 52,
   "metadata": {},
   "outputs": [],
   "source": [
    "tegel = Place(arrival, client=api).sync_from_google()\n",
    "schoenefeld = Place(departure, client=api).sync_from_google()"
   ]
  },
  {
   "cell_type": "code",
   "execution_count": 53,
   "metadata": {},
   "outputs": [
    {
     "data": {
      "text/plain": [
       "25370"
      ]
     },
     "execution_count": 53,
     "metadata": {},
     "output_type": "execute_result"
    }
   ],
   "source": [
    "tegel.distance_to(schoenefeld)"
   ]
  },
  {
   "cell_type": "markdown",
   "metadata": {},
   "source": [
    "**Q30**: Execute the next code cell to instantiate the `Place`s in `sights` again!"
   ]
  },
  {
   "cell_type": "code",
   "execution_count": 54,
   "metadata": {},
   "outputs": [],
   "source": [
    "places = Place.from_addresses(sights, client=api, sync=True)"
   ]
  },
  {
   "cell_type": "code",
   "execution_count": 55,
   "metadata": {},
   "outputs": [
    {
     "data": {
      "text/plain": [
       "[<Place: Alexanderplatz [SYNCED]>,\n",
       " <Place: Brandenburger Tor [SYNCED]>,\n",
       " <Place: Checkpoint Charlie [SYNCED]>,\n",
       " <Place: Kottbusser Tor [SYNCED]>,\n",
       " <Place: Mauerpark [SYNCED]>,\n",
       " <Place: Siegessäule [SYNCED]>,\n",
       " <Place: Reichstag [SYNCED]>,\n",
       " <Place: Soho House Berlin [SYNCED]>,\n",
       " <Place: Tempelhofer Feld [SYNCED]>]"
      ]
     },
     "execution_count": 55,
     "metadata": {},
     "output_type": "execute_result"
    }
   ],
   "source": [
    "places"
   ]
  },
  {
   "cell_type": "markdown",
   "metadata": {},
   "source": [
    "### The `Map` Class (continued): Pairwise Distances"
   ]
  },
  {
   "cell_type": "markdown",
   "metadata": {},
   "source": [
    "Now, we add a read-only `distances` property on our `Map` class. As we are working with air distances, these are *symmetric* which reduces the number of distances we must calculate.\n",
    "\n",
    "To do so, we use the [combinations() <img height=\"12\" style=\"display: inline-block\" src=\"../static/link/to_py.png\">](https://docs.python.org/3/library/itertools.html#itertools.combinations) generator function in the [itertools <img height=\"12\" style=\"display: inline-block\" src=\"../static/link/to_py.png\">](https://docs.python.org/3/library/itertools.html) module in the [standard library <img height=\"12\" style=\"display: inline-block\" src=\"../static/link/to_py.png\">](https://docs.python.org/3/library/index.html). That produces all possible `r`-`tuple`s from an `iterable` argument. `r` is `2` in our case as we are looking at `origin`-`destination` pairs.\n",
    "\n",
    "Let's first look at an easy example of [combinations() <img height=\"12\" style=\"display: inline-block\" src=\"../static/link/to_py.png\">](https://docs.python.org/3/library/itertools.html#itertools.combinations) to understand how it works: It gives us all the `2`-`tuple`s from a `list` of five `numbers` disregarding the order of the `tuple`s' elements."
   ]
  },
  {
   "cell_type": "code",
   "execution_count": 56,
   "metadata": {},
   "outputs": [],
   "source": [
    "import itertools"
   ]
  },
  {
   "cell_type": "code",
   "execution_count": 57,
   "metadata": {},
   "outputs": [
    {
     "name": "stdout",
     "output_type": "stream",
     "text": [
      "1 2\n",
      "1 3\n",
      "1 4\n",
      "1 5\n",
      "2 3\n",
      "2 4\n",
      "2 5\n",
      "3 4\n",
      "3 5\n",
      "4 5\n"
     ]
    }
   ],
   "source": [
    "numbers = [1, 2, 3, 4, 5]\n",
    "\n",
    "for x, y in itertools.combinations(numbers, 2):\n",
    "    print(x, y)"
   ]
  },
  {
   "cell_type": "markdown",
   "metadata": {},
   "source": [
    "`distances` uses the internal `._start`, `._end`, and `._places` attributes and creates a `dict` with the keys consisting of all pairs of `Place`s and the values being their distances in meters. As this operation is rather costly, we cache the distances the first time we calculate them into a hidden instance attribute `._distances`, which must be initialized with `None` in the `.__init__()` method.\n",
    "\n",
    "**Q31**: Finish the `.distances` property as described!"
   ]
  },
  {
   "cell_type": "code",
   "execution_count": 58,
   "metadata": {},
   "outputs": [],
   "source": [
    "class Map:\n",
    "    \"\"\"A map with plotting and routing capabilities.\"\"\"\n",
    "\n",
    "    # answers from above with a tiny adjustment\n",
    "    def __init__(self, name, center, start, end, places, initial_zoom=12):\n",
    "        \"\"\"Create a new map.\n",
    "\n",
    "        Args:\n",
    "            name (str): name of the map\n",
    "            center (float, float): coordinates of the map's center\n",
    "            start (Place): start of the tour\n",
    "            end (Place): end of the tour\n",
    "            places (iterable of Places): the places to be visitied\n",
    "            initial_zoom (integer): zoom level according to folium's\n",
    "                specifications; defaults to 12\n",
    "        \"\"\"\n",
    "        self.name = name\n",
    "        self._start = start\n",
    "        self._end = end\n",
    "        self._places = places\n",
    "        self._map = folium.Map(location=center, zoom_start=initial_zoom)\n",
    "        self._distances = None\n",
    "\n",
    "        self.add_marker(start.as_marker(color=\"green\"))\n",
    "        self.add_marker(end.as_marker(color=\"red\"))\n",
    "        for place in places:\n",
    "            self.add_marker(place.as_marker())\n",
    "\n",
    "    def __repr__(self):\n",
    "        return f\"<Map: {self.name}>\"\n",
    "\n",
    "    def show(self):\n",
    "        \"\"\"Return a folium.Map representation of the map.\"\"\"\n",
    "        return self._map\n",
    "\n",
    "    def add_marker(self, marker):\n",
    "        \"\"\"Add a marker to the map.\n",
    "\n",
    "        Args:\n",
    "            marker (folium.Marker): marker to be put on the map\n",
    "        \"\"\"\n",
    "        marker.add_to(self._map)\n",
    "        return self\n",
    "\n",
    "    # answer to Q31\n",
    "    @property\n",
    "    def distances(self):\n",
    "        \"\"\"Return a dict with the pairwise distances of all places.\n",
    "\n",
    "        Implementation note: The results of the calculations are cached.\n",
    "        \"\"\"\n",
    "        if not self._distances:\n",
    "            distances = {}\n",
    "            all_pairs = itertools.combinations(\n",
    "                [self._start, self._end] + self._places,\n",
    "                r=2,\n",
    "            )\n",
    "            for origin, destination in all_pairs:\n",
    "                distance = origin.distance_to(destination)\n",
    "                distances[origin, destination] = distance\n",
    "                distances[destination, origin] = distance\n",
    "            self._distances = distances\n",
    "        return self._distances"
   ]
  },
  {
   "cell_type": "markdown",
   "metadata": {},
   "source": [
    "We pretty print the total distance matrix."
   ]
  },
  {
   "cell_type": "code",
   "execution_count": 59,
   "metadata": {},
   "outputs": [],
   "source": [
    "berlin = Map(\n",
    "    \"Berlin\",\n",
    "    center=(52.5015154, 13.4066838),\n",
    "    start=Place(arrival, client=api).sync_from_google(),\n",
    "    end=Place(departure, client=api).sync_from_google(),\n",
    "    places=places,\n",
    "    initial_zoom=10,\n",
    ")"
   ]
  },
  {
   "cell_type": "code",
   "execution_count": 60,
   "metadata": {},
   "outputs": [
    {
     "name": "stdout",
     "output_type": "stream",
     "text": [
      "{(<Place: Berlin Tegel Airport (TXL) [SYNCED]>, <Place: Brandenburger Tor [SYNCED]>): 7671,\n",
      " (<Place: Siegessäule [SYNCED]>, <Place: Soho House Berlin [SYNCED]>): 4654,\n",
      " (<Place: Tempelhofer Feld [SYNCED]>, <Place: Siegessäule [SYNCED]>): 5589,\n",
      " (<Place: Reichstag [SYNCED]>, <Place: Siegessäule [SYNCED]>): 1821,\n",
      " (<Place: Alexanderplatz [SYNCED]>, <Place: Berlin Tegel Airport (TXL) [SYNCED]>): 9386,\n",
      " (<Place: Berlin Tegel Airport (TXL) [SYNCED]>, <Place: Berlin Schönefeld Airport (SXF) [SYNCED]>): 25370,\n",
      " (<Place: Berlin Tegel Airport (TXL) [SYNCED]>, <Place: Alexanderplatz [SYNCED]>): 9386,\n",
      " (<Place: Berlin Schönefeld Airport (SXF) [SYNCED]>, <Place: Berlin Tegel Airport (TXL) [SYNCED]>): 25370,\n",
      " (<Place: Soho House Berlin [SYNCED]>, <Place: Siegessäule [SYNCED]>): 4654,\n",
      " (<Place: Soho House Berlin [SYNCED]>, <Place: Tempelhofer Feld [SYNCED]>): 5878,\n",
      " (<Place: Reichstag [SYNCED]>, <Place: Soho House Berlin [SYNCED]>): 2839,\n",
      " (<Place: Reichstag [SYNCED]>, <Place: Tempelhofer Feld [SYNCED]>): 5112,\n",
      " (<Place: Checkpoint Charlie [SYNCED]>, <Place: Berlin Tegel Airport (TXL) [SYNCED]>): 8955,\n",
      " (<Place: Berlin Tegel Airport (TXL) [SYNCED]>, <Place: Reichstag [SYNCED]>): 7430,\n",
      " (<Place: Berlin Tegel Airport (TXL) [SYNCED]>, <Place: Mauerpark [SYNCED]>): 7981,\n",
      " (<Place: Kottbusser Tor [SYNCED]>, <Place: Berlin Tegel Airport (TXL) [SYNCED]>): 11020,\n",
      " (<Place: Brandenburger Tor [SYNCED]>, <Place: Berlin Tegel Airport (TXL) [SYNCED]>): 7671,\n",
      " (<Place: Brandenburger Tor [SYNCED]>, <Place: Reichstag [SYNCED]>): 280,\n",
      " (<Place: Berlin Tegel Airport (TXL) [SYNCED]>, <Place: Kottbusser Tor [SYNCED]>): 11020,\n",
      " (<Place: Berlin Tegel Airport (TXL) [SYNCED]>, <Place: Siegessäule [SYNCED]>): 6454,\n",
      " (<Place: Mauerpark [SYNCED]>, <Place: Berlin Tegel Airport (TXL) [SYNCED]>): 7981,\n",
      " (<Place: Siegessäule [SYNCED]>, <Place: Berlin Tegel Airport (TXL) [SYNCED]>): 6454,\n",
      " (<Place: Berlin Tegel Airport (TXL) [SYNCED]>, <Place: Soho House Berlin [SYNCED]>): 9266,\n",
      " (<Place: Reichstag [SYNCED]>, <Place: Berlin Tegel Airport (TXL) [SYNCED]>): 7430,\n",
      " (<Place: Berlin Tegel Airport (TXL) [SYNCED]>, <Place: Tempelhofer Feld [SYNCED]>): 12042,\n",
      " (<Place: Soho House Berlin [SYNCED]>, <Place: Berlin Tegel Airport (TXL) [SYNCED]>): 9266,\n",
      " (<Place: Berlin Schönefeld Airport (SXF) [SYNCED]>, <Place: Alexanderplatz [SYNCED]>): 17695,\n",
      " (<Place: Tempelhofer Feld [SYNCED]>, <Place: Berlin Tegel Airport (TXL) [SYNCED]>): 12042,\n",
      " (<Place: Berlin Schönefeld Airport (SXF) [SYNCED]>, <Place: Brandenburger Tor [SYNCED]>): 18133,\n",
      " (<Place: Alexanderplatz [SYNCED]>, <Place: Berlin Schönefeld Airport (SXF) [SYNCED]>): 17695,\n",
      " (<Place: Berlin Schönefeld Airport (SXF) [SYNCED]>, <Place: Checkpoint Charlie [SYNCED]>): 16861,\n",
      " (<Place: Brandenburger Tor [SYNCED]>, <Place: Berlin Schönefeld Airport (SXF) [SYNCED]>): 18133,\n",
      " (<Place: Berlin Schönefeld Airport (SXF) [SYNCED]>, <Place: Kottbusser Tor [SYNCED]>): 15199,\n",
      " (<Place: Checkpoint Charlie [SYNCED]>, <Place: Berlin Schönefeld Airport (SXF) [SYNCED]>): 16861,\n",
      " (<Place: Berlin Schönefeld Airport (SXF) [SYNCED]>, <Place: Mauerpark [SYNCED]>): 20057,\n",
      " (<Place: Kottbusser Tor [SYNCED]>, <Place: Berlin Schönefeld Airport (SXF) [SYNCED]>): 15199,\n",
      " (<Place: Berlin Schönefeld Airport (SXF) [SYNCED]>, <Place: Siegessäule [SYNCED]>): 18944,\n",
      " (<Place: Mauerpark [SYNCED]>, <Place: Berlin Schönefeld Airport (SXF) [SYNCED]>): 20057,\n",
      " (<Place: Berlin Schönefeld Airport (SXF) [SYNCED]>, <Place: Reichstag [SYNCED]>): 18411,\n",
      " (<Place: Siegessäule [SYNCED]>, <Place: Berlin Schönefeld Airport (SXF) [SYNCED]>): 18944,\n",
      " (<Place: Berlin Schönefeld Airport (SXF) [SYNCED]>, <Place: Soho House Berlin [SYNCED]>): 18230,\n",
      " (<Place: Reichstag [SYNCED]>, <Place: Berlin Schönefeld Airport (SXF) [SYNCED]>): 18411,\n",
      " (<Place: Berlin Schönefeld Airport (SXF) [SYNCED]>, <Place: Tempelhofer Feld [SYNCED]>): 13382,\n",
      " (<Place: Soho House Berlin [SYNCED]>, <Place: Berlin Schönefeld Airport (SXF) [SYNCED]>): 18230,\n",
      " (<Place: Alexanderplatz [SYNCED]>, <Place: Brandenburger Tor [SYNCED]>): 2491,\n",
      " (<Place: Tempelhofer Feld [SYNCED]>, <Place: Berlin Schönefeld Airport (SXF) [SYNCED]>): 13382,\n",
      " (<Place: Alexanderplatz [SYNCED]>, <Place: Checkpoint Charlie [SYNCED]>): 2240,\n",
      " (<Place: Brandenburger Tor [SYNCED]>, <Place: Alexanderplatz [SYNCED]>): 2491,\n",
      " (<Place: Alexanderplatz [SYNCED]>, <Place: Kottbusser Tor [SYNCED]>): 2577,\n",
      " (<Place: Checkpoint Charlie [SYNCED]>, <Place: Alexanderplatz [SYNCED]>): 2240,\n",
      " (<Place: Alexanderplatz [SYNCED]>, <Place: Mauerpark [SYNCED]>): 2368,\n",
      " (<Place: Kottbusser Tor [SYNCED]>, <Place: Alexanderplatz [SYNCED]>): 2577,\n",
      " (<Place: Alexanderplatz [SYNCED]>, <Place: Siegessäule [SYNCED]>): 4354,\n",
      " (<Place: Mauerpark [SYNCED]>, <Place: Alexanderplatz [SYNCED]>): 2368,\n",
      " (<Place: Alexanderplatz [SYNCED]>, <Place: Reichstag [SYNCED]>): 2539,\n",
      " (<Place: Siegessäule [SYNCED]>, <Place: Alexanderplatz [SYNCED]>): 4354,\n",
      " (<Place: Alexanderplatz [SYNCED]>, <Place: Soho House Berlin [SYNCED]>): 642,\n",
      " (<Place: Reichstag [SYNCED]>, <Place: Alexanderplatz [SYNCED]>): 2539,\n",
      " (<Place: Alexanderplatz [SYNCED]>, <Place: Tempelhofer Feld [SYNCED]>): 5237,\n",
      " (<Place: Soho House Berlin [SYNCED]>, <Place: Alexanderplatz [SYNCED]>): 642,\n",
      " (<Place: Brandenburger Tor [SYNCED]>, <Place: Checkpoint Charlie [SYNCED]>): 1304,\n",
      " (<Place: Tempelhofer Feld [SYNCED]>, <Place: Alexanderplatz [SYNCED]>): 5237,\n",
      " (<Place: Brandenburger Tor [SYNCED]>, <Place: Kottbusser Tor [SYNCED]>): 3353,\n",
      " (<Place: Checkpoint Charlie [SYNCED]>, <Place: Brandenburger Tor [SYNCED]>): 1304,\n",
      " (<Place: Brandenburger Tor [SYNCED]>, <Place: Mauerpark [SYNCED]>): 3383,\n",
      " (<Place: Kottbusser Tor [SYNCED]>, <Place: Brandenburger Tor [SYNCED]>): 3353,\n",
      " (<Place: Brandenburger Tor [SYNCED]>, <Place: Siegessäule [SYNCED]>): 1876,\n",
      " (<Place: Mauerpark [SYNCED]>, <Place: Brandenburger Tor [SYNCED]>): 3383,\n",
      " (<Place: Siegessäule [SYNCED]>, <Place: Brandenburger Tor [SYNCED]>): 1876,\n",
      " (<Place: Brandenburger Tor [SYNCED]>, <Place: Soho House Berlin [SYNCED]>): 2848,\n",
      " (<Place: Reichstag [SYNCED]>, <Place: Brandenburger Tor [SYNCED]>): 280,\n",
      " (<Place: Brandenburger Tor [SYNCED]>, <Place: Tempelhofer Feld [SYNCED]>): 4831,\n",
      " (<Place: Soho House Berlin [SYNCED]>, <Place: Brandenburger Tor [SYNCED]>): 2848,\n",
      " (<Place: Checkpoint Charlie [SYNCED]>, <Place: Kottbusser Tor [SYNCED]>): 2110,\n",
      " (<Place: Tempelhofer Feld [SYNCED]>, <Place: Brandenburger Tor [SYNCED]>): 4831,\n",
      " (<Place: Checkpoint Charlie [SYNCED]>, <Place: Mauerpark [SYNCED]>): 3984,\n",
      " (<Place: Kottbusser Tor [SYNCED]>, <Place: Checkpoint Charlie [SYNCED]>): 2110,\n",
      " (<Place: Checkpoint Charlie [SYNCED]>, <Place: Siegessäule [SYNCED]>): 2837,\n",
      " (<Place: Mauerpark [SYNCED]>, <Place: Checkpoint Charlie [SYNCED]>): 3984,\n",
      " (<Place: Checkpoint Charlie [SYNCED]>, <Place: Reichstag [SYNCED]>): 1571,\n",
      " (<Place: Siegessäule [SYNCED]>, <Place: Checkpoint Charlie [SYNCED]>): 2837,\n",
      " (<Place: Checkpoint Charlie [SYNCED]>, <Place: Soho House Berlin [SYNCED]>): 2811,\n",
      " (<Place: Reichstag [SYNCED]>, <Place: Checkpoint Charlie [SYNCED]>): 1571,\n",
      " (<Place: Checkpoint Charlie [SYNCED]>, <Place: Tempelhofer Feld [SYNCED]>): 3648,\n",
      " (<Place: Soho House Berlin [SYNCED]>, <Place: Checkpoint Charlie [SYNCED]>): 2811,\n",
      " (<Place: Kottbusser Tor [SYNCED]>, <Place: Mauerpark [SYNCED]>): 4930,\n",
      " (<Place: Tempelhofer Feld [SYNCED]>, <Place: Checkpoint Charlie [SYNCED]>): 3648,\n",
      " (<Place: Kottbusser Tor [SYNCED]>, <Place: Siegessäule [SYNCED]>): 4928,\n",
      " (<Place: Mauerpark [SYNCED]>, <Place: Kottbusser Tor [SYNCED]>): 4930,\n",
      " (<Place: Kottbusser Tor [SYNCED]>, <Place: Reichstag [SYNCED]>): 3590,\n",
      " (<Place: Siegessäule [SYNCED]>, <Place: Kottbusser Tor [SYNCED]>): 4928,\n",
      " (<Place: Kottbusser Tor [SYNCED]>, <Place: Soho House Berlin [SYNCED]>): 3185,\n",
      " (<Place: Reichstag [SYNCED]>, <Place: Kottbusser Tor [SYNCED]>): 3590,\n",
      " (<Place: Kottbusser Tor [SYNCED]>, <Place: Tempelhofer Feld [SYNCED]>): 2851,\n",
      " (<Place: Soho House Berlin [SYNCED]>, <Place: Kottbusser Tor [SYNCED]>): 3185,\n",
      " (<Place: Mauerpark [SYNCED]>, <Place: Siegessäule [SYNCED]>): 4749,\n",
      " (<Place: Tempelhofer Feld [SYNCED]>, <Place: Kottbusser Tor [SYNCED]>): 2851,\n",
      " (<Place: Mauerpark [SYNCED]>, <Place: Reichstag [SYNCED]>): 3219,\n",
      " (<Place: Siegessäule [SYNCED]>, <Place: Mauerpark [SYNCED]>): 4749,\n",
      " (<Place: Mauerpark [SYNCED]>, <Place: Soho House Berlin [SYNCED]>): 1838,\n",
      " (<Place: Reichstag [SYNCED]>, <Place: Mauerpark [SYNCED]>): 3219,\n",
      " (<Place: Mauerpark [SYNCED]>, <Place: Tempelhofer Feld [SYNCED]>): 7451,\n",
      " (<Place: Soho House Berlin [SYNCED]>, <Place: Mauerpark [SYNCED]>): 1838,\n",
      " (<Place: Siegessäule [SYNCED]>, <Place: Reichstag [SYNCED]>): 1821,\n",
      " (<Place: Tempelhofer Feld [SYNCED]>, <Place: Mauerpark [SYNCED]>): 7451,\n",
      " (<Place: Siegessäule [SYNCED]>, <Place: Tempelhofer Feld [SYNCED]>): 5589,\n",
      " (<Place: Tempelhofer Feld [SYNCED]>, <Place: Reichstag [SYNCED]>): 5112,\n",
      " (<Place: Soho House Berlin [SYNCED]>, <Place: Reichstag [SYNCED]>): 2839,\n",
      " (<Place: Tempelhofer Feld [SYNCED]>, <Place: Soho House Berlin [SYNCED]>): 5878,\n",
      " (<Place: Berlin Tegel Airport (TXL) [SYNCED]>, <Place: Checkpoint Charlie [SYNCED]>): 8955}\n"
     ]
    }
   ],
   "source": [
    "pprint(berlin.distances)"
   ]
  },
  {
   "cell_type": "markdown",
   "metadata": {},
   "source": [
    "How can we be sure the matrix contains all possible pairs? As we have 9 `sights` plus the `start` and the `end` of the tour, we conclude that there must be `11 * 10 = 110` distances excluding the `0` distances of a `Place` to itself that are not in the distance matrix."
   ]
  },
  {
   "cell_type": "code",
   "execution_count": 61,
   "metadata": {},
   "outputs": [
    {
     "data": {
      "text/plain": [
       "110"
      ]
     },
     "execution_count": 61,
     "metadata": {},
     "output_type": "execute_result"
    }
   ],
   "source": [
    "n_places = len(places) + 2\n",
    "\n",
    "n_places * (n_places - 1)"
   ]
  },
  {
   "cell_type": "code",
   "execution_count": 62,
   "metadata": {},
   "outputs": [
    {
     "data": {
      "text/plain": [
       "110"
      ]
     },
     "execution_count": 62,
     "metadata": {},
     "output_type": "execute_result"
    }
   ],
   "source": [
    "len(berlin.distances)"
   ]
  },
  {
   "cell_type": "markdown",
   "metadata": {},
   "source": [
    "## Route Optimization"
   ]
  },
  {
   "cell_type": "markdown",
   "metadata": {},
   "source": [
    "Let us find the cost minimal order of traveling from the `arrival` airport to the `departure` airport while visiting all the `sights`.\n",
    "\n",
    "This problem can be expressed as finding the shortest so-called [Hamiltonian path <img height=\"12\" style=\"display: inline-block\" src=\"../static/link/to_wiki.png\">](https://en.wikipedia.org/wiki/Hamiltonian_path) from the `start` to `end` on the `Map` (i.e., a path that visits each intermediate node exactly once). With the \"hack\" of assuming the distance of traveling from the `end` to the `start` to be `0` and thereby effectively merging the two airports into a single node, the problem can be viewed as a so-called [traveling salesman problem <img height=\"12\" style=\"display: inline-block\" src=\"../static/link/to_wiki.png\">](https://en.wikipedia.org/wiki/Traveling_salesman_problem) (TSP).\n",
    "\n",
    "The TSP is a hard problem to solve but also well studied in the literature. Assuming symmetric distances, a TSP with $n$ nodes has $\\frac{(n-1)!}{2}$ possible routes. $(n-1)$ because any node can be the `start` / `end` and divided by $2$ as the problem is symmetric.\n",
    "\n",
    "Starting with about $n = 20$, the TSP is almost impossible to solve exactly in a reasonable amount of time. Luckily, we do not have that many `sights` to visit, and so we use a [brute force <img height=\"12\" style=\"display: inline-block\" src=\"../static/link/to_wiki.png\">](https://en.wikipedia.org/wiki/Brute-force_search) approach and simply loop over all possible routes to find the shortest.\n",
    "\n",
    "In the case of our tourist, we \"only\" need to try out `181_440` possible routes because the two airports are effectively one node and $n$ becomes $10$."
   ]
  },
  {
   "cell_type": "code",
   "execution_count": 63,
   "metadata": {},
   "outputs": [],
   "source": [
    "import math"
   ]
  },
  {
   "cell_type": "code",
   "execution_count": 64,
   "metadata": {},
   "outputs": [
    {
     "data": {
      "text/plain": [
       "181440"
      ]
     },
     "execution_count": 64,
     "metadata": {},
     "output_type": "execute_result"
    }
   ],
   "source": [
    "math.factorial(len(places) + 1 - 1) // 2"
   ]
  },
  {
   "cell_type": "markdown",
   "metadata": {},
   "source": [
    "Analyzing the problem a bit further, all we need is a list of [permutations <img height=\"12\" style=\"display: inline-block\" src=\"../static/link/to_wiki.png\">](https://en.wikipedia.org/wiki/Permutation) of the sights as the two airports are always the first and last location.\n",
    "\n",
    "The [permutations() <img height=\"12\" style=\"display: inline-block\" src=\"../static/link/to_py.png\">](https://docs.python.org/3/library/itertools.html#itertools.permutations) generator function in the [itertools <img height=\"12\" style=\"display: inline-block\" src=\"../static/link/to_py.png\">](https://docs.python.org/3/library/itertools.html) module in the [standard library <img height=\"12\" style=\"display: inline-block\" src=\"../static/link/to_py.png\">](https://docs.python.org/3/library/index.html) helps us with the task. Let's see an example to understand how it works."
   ]
  },
  {
   "cell_type": "code",
   "execution_count": 65,
   "metadata": {},
   "outputs": [
    {
     "name": "stdout",
     "output_type": "stream",
     "text": [
      "(1, 2, 3)\n",
      "(1, 3, 2)\n",
      "(2, 1, 3)\n",
      "(2, 3, 1)\n",
      "(3, 1, 2)\n",
      "(3, 2, 1)\n"
     ]
    }
   ],
   "source": [
    "numbers = [1, 2, 3]\n",
    "\n",
    "for permutation in itertools.permutations(numbers):\n",
    "    print(permutation)"
   ]
  },
  {
   "cell_type": "markdown",
   "metadata": {},
   "source": [
    "However, if we use [permutations() <img height=\"12\" style=\"display: inline-block\" src=\"../static/link/to_py.png\">](https://docs.python.org/3/library/itertools.html#itertools.permutations) as is, we try out *redundant* routes. For example, transferred to our case, the tuples `(1, 2, 3)` and `(3, 2, 1)` represent the *same* route as the distances are symmetric and the tourist could be going in either direction. To obtain the *unique* routes, we use an `if`-clause in a \"hacky\" way by only accepting routes where the first node has a smaller value than the last. Thus, we keep, for example, `(1, 2, 3)` and discard `(3, 2, 1)`."
   ]
  },
  {
   "cell_type": "code",
   "execution_count": 66,
   "metadata": {},
   "outputs": [
    {
     "name": "stdout",
     "output_type": "stream",
     "text": [
      "(1, 2, 3)\n",
      "(1, 3, 2)\n",
      "(2, 1, 3)\n"
     ]
    }
   ],
   "source": [
    "for permutation in itertools.permutations(numbers):\n",
    "    if permutation[0] < permutation[-1]:\n",
    "        print(permutation)"
   ]
  },
  {
   "cell_type": "markdown",
   "metadata": {},
   "source": [
    "In order to compare `Place`s as numbers, we would have to implement, among others, the `.__eq__()` special method. Otherwise, we get a `TypeError`."
   ]
  },
  {
   "cell_type": "code",
   "execution_count": 67,
   "metadata": {},
   "outputs": [
    {
     "ename": "TypeError",
     "evalue": "'<' not supported between instances of 'Place' and 'Place'",
     "output_type": "error",
     "traceback": [
      "\u001b[0;31m---------------------------------------------------------------------------\u001b[0m",
      "\u001b[0;31mTypeError\u001b[0m                                 Traceback (most recent call last)",
      "\u001b[0;32m<ipython-input-67-47143cbb993d>\u001b[0m in \u001b[0;36m<module>\u001b[0;34m\u001b[0m\n\u001b[0;32m----> 1\u001b[0;31m \u001b[0mPlace\u001b[0m\u001b[0;34m(\u001b[0m\u001b[0marrival\u001b[0m\u001b[0;34m,\u001b[0m \u001b[0mclient\u001b[0m\u001b[0;34m=\u001b[0m\u001b[0mapi\u001b[0m\u001b[0;34m)\u001b[0m \u001b[0;34m<\u001b[0m \u001b[0mPlace\u001b[0m\u001b[0;34m(\u001b[0m\u001b[0mdeparture\u001b[0m\u001b[0;34m,\u001b[0m \u001b[0mclient\u001b[0m\u001b[0;34m=\u001b[0m\u001b[0mapi\u001b[0m\u001b[0;34m)\u001b[0m\u001b[0;34m\u001b[0m\u001b[0;34m\u001b[0m\u001b[0m\n\u001b[0m",
      "\u001b[0;31mTypeError\u001b[0m: '<' not supported between instances of 'Place' and 'Place'"
     ]
    }
   ],
   "source": [
    "Place(arrival, client=api) < Place(departure, client=api)"
   ]
  },
  {
   "cell_type": "markdown",
   "metadata": {},
   "source": [
    "As a quick and dirty solution, we use the `.location` property on a `Place` to do the comparison."
   ]
  },
  {
   "cell_type": "code",
   "execution_count": 68,
   "metadata": {},
   "outputs": [
    {
     "data": {
      "text/plain": [
       "False"
      ]
     },
     "execution_count": 68,
     "metadata": {},
     "output_type": "execute_result"
    }
   ],
   "source": [
    "Place(arrival, client=api).location < Place(departure, client=api).location"
   ]
  },
  {
   "cell_type": "markdown",
   "metadata": {},
   "source": [
    "As the code cell below shows, combining [permutations() <img height=\"12\" style=\"display: inline-block\" src=\"../static/link/to_py.png\">](https://docs.python.org/3/library/itertools.html#itertools.permutations) with an `if`-clause results in the correct number of routes to be looped over."
   ]
  },
  {
   "cell_type": "code",
   "execution_count": 69,
   "metadata": {},
   "outputs": [
    {
     "data": {
      "text/plain": [
       "181440"
      ]
     },
     "execution_count": 69,
     "metadata": {},
     "output_type": "execute_result"
    }
   ],
   "source": [
    "sum(\n",
    "    1\n",
    "    for route in itertools.permutations(places)\n",
    "    if route[0].location < route[-1].location\n",
    ")"
   ]
  },
  {
   "cell_type": "markdown",
   "metadata": {},
   "source": [
    "To implement the brute force algorithm, we split the logic into two methods.\n",
    "\n",
    "First, we create an `.evaluate()` method that takes a `route` argument that is a sequence of `Place`s and returns the total distance of the route. Internally, this method uses the `.distances` property repeatedly, which is why we built in caching above.\n",
    "\n",
    "**Q32**: Finish the `.evaluate()` method as described!\n",
    "\n",
    "Second, we create a `.brute_force()` method that needs no arguments. It loops over all possible routes to find the shortest. As the `start` and `end` of a route are fixed, we only need to look at `permutation`s of inner nodes. Each `permutation` can then be traversed in a forward and a backward order. `.brute_force()` enables method chaining as well.\n",
    "\n",
    "**Q33**: Finish the `.brute_force()` method as described!"
   ]
  },
  {
   "cell_type": "markdown",
   "metadata": {},
   "source": [
    "### The `Map` Class (continued): Brute Forcing the TSP"
   ]
  },
  {
   "cell_type": "code",
   "execution_count": 70,
   "metadata": {},
   "outputs": [],
   "source": [
    "class Map:\n",
    "    \"\"\"A map with plotting and routing capabilities.\"\"\"\n",
    "\n",
    "    # answers from above\n",
    "    def __init__(self, name, center, start, end, places, initial_zoom=12):\n",
    "        \"\"\"Create a new map.\n",
    "\n",
    "        Args:\n",
    "            name (str): name of the map\n",
    "            center (float, float): coordinates of the map's center\n",
    "            start (Place): start of the tour\n",
    "            end (Place): end of the tour\n",
    "            places (iterable of Places): the places to be visitied\n",
    "            initial_zoom (integer): zoom level according to folium's\n",
    "                specifications; defaults to 12\n",
    "        \"\"\"\n",
    "        self.name = name\n",
    "        self._start = start\n",
    "        self._end = end\n",
    "        self._places = places\n",
    "        self._map = folium.Map(location=center, zoom_start=initial_zoom)\n",
    "        self._distances = None\n",
    "\n",
    "        self.add_marker(start.as_marker(color=\"green\"))\n",
    "        self.add_marker(end.as_marker(color=\"red\"))\n",
    "        for place in places:\n",
    "            self.add_marker(place.as_marker())\n",
    "\n",
    "    def __repr__(self):\n",
    "        return f\"<Map: {self.name}>\"\n",
    "\n",
    "    def show(self):\n",
    "        \"\"\"Return a folium.Map representation of the map.\"\"\"\n",
    "        return self._map\n",
    "\n",
    "    def add_marker(self, marker):\n",
    "        \"\"\"Add a marker to the map.\n",
    "\n",
    "        Args:\n",
    "            marker (folium.Marker): marker to be put on the map\n",
    "        \"\"\"\n",
    "        marker.add_to(self._map)\n",
    "        return self\n",
    "\n",
    "    @property\n",
    "    def distances(self):\n",
    "        \"\"\"Return a dict with the pairwise distances of all places.\n",
    "\n",
    "        Implementation note: The results of the calculations are cached.\n",
    "        \"\"\"\n",
    "        if not self._distances:\n",
    "            distances = {}\n",
    "            all_pairs = itertools.combinations(\n",
    "                [self._start, self._end] + self._places, r=2,\n",
    "            )\n",
    "            for origin, destination in all_pairs:\n",
    "                distance = origin.distance_to(destination)\n",
    "                distances[origin, destination] = distance\n",
    "                distances[destination, origin] = distance\n",
    "            self._distances = distances\n",
    "\n",
    "        return self._distances\n",
    "\n",
    "    # answer to Q32\n",
    "    def evaluate(self, route):\n",
    "        \"\"\"Calculate the total distance of a route.\n",
    "\n",
    "        Args:\n",
    "            route (sequence of Places): the ordered nodes in a tour\n",
    "\n",
    "        Returns:\n",
    "            cost (int)\n",
    "        \"\"\"\n",
    "        cost = 0\n",
    "        # Loop over all pairs of consecutive places.\n",
    "        origin = route[0]\n",
    "        for destination in route[1:]:\n",
    "            cost += self.distances[origin, destination]\n",
    "            origin = destination\n",
    "\n",
    "        return cost\n",
    "\n",
    "    # answer to Q33\n",
    "    def brute_force(self):\n",
    "        \"\"\"Calculate the shortest route by brute force.\n",
    "\n",
    "        The route is plotted on the folium.Map.\n",
    "        \"\"\"\n",
    "        # Assume a very high cost to begin with.\n",
    "        min_cost = 999_999_999\n",
    "        best_route = None\n",
    "\n",
    "        # Loop over all permutations of the intermediate nodes to visit.\n",
    "        for permutation in itertools.permutations(self._places):\n",
    "            # Skip redundant permutations.\n",
    "            if permutation[0].location > permutation[-1].location:\n",
    "                continue\n",
    "            # Travel through the routes in both directions.\n",
    "            for route in (permutation, permutation[::-1]):\n",
    "                # Add start and end to the route.\n",
    "                route = (self._start, *route, self._end)\n",
    "                # Check if a route is cheaper than all routes seen before.\n",
    "                cost = self.evaluate(route)\n",
    "                if cost < min_cost:\n",
    "                    min_cost = cost\n",
    "                    best_route = route\n",
    "\n",
    "        # Plot the route on the map\n",
    "        folium.PolyLine(\n",
    "            [x.location for x in best_route],\n",
    "            color=\"orange\", weight=3, opacity=1\n",
    "        ).add_to(self._map)\n",
    "\n",
    "        return self"
   ]
  },
  {
   "cell_type": "markdown",
   "metadata": {},
   "source": [
    "**Q34**: Find the best route for our tourist by executing the code cells below!"
   ]
  },
  {
   "cell_type": "code",
   "execution_count": 71,
   "metadata": {},
   "outputs": [],
   "source": [
    "berlin = Map(\n",
    "    \"Berlin\",\n",
    "    center=(52.4915154, 13.4066838),\n",
    "    start=Place(arrival, client=api).sync_from_google(),\n",
    "    end=Place(departure, client=api).sync_from_google(),\n",
    "    places=places,\n",
    "    initial_zoom=12,\n",
    ")"
   ]
  },
  {
   "cell_type": "code",
   "execution_count": 72,
   "metadata": {},
   "outputs": [
    {
     "data": {
      "text/html": [
       "<div style=\"width:100%;\"><div style=\"position:relative;width:100%;height:0;padding-bottom:60%;\"><span style=\"color:#565656\">Make this Notebook Trusted to load map: File -> Trust Notebook</span><iframe src=\"about:blank\" style=\"position:absolute;width:100%;height:100%;left:0;top:0;border:none !important;\" data-html=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 onload=\"this.contentDocument.open();this.contentDocument.write(atob(this.getAttribute('data-html')));this.contentDocument.close();\" allowfullscreen webkitallowfullscreen mozallowfullscreen></iframe></div></div>"
      ],
      "text/plain": [
       "<folium.folium.Map at 0x7f2c1dd091c0>"
      ]
     },
     "execution_count": 72,
     "metadata": {},
     "output_type": "execute_result"
    }
   ],
   "source": [
    "berlin.brute_force().show()"
   ]
  }
 ],
 "metadata": {
  "kernelspec": {
   "display_name": "Python 3",
   "language": "python",
   "name": "python3"
  },
  "language_info": {
   "codemirror_mode": {
    "name": "ipython",
    "version": 3
   },
   "file_extension": ".py",
   "mimetype": "text/x-python",
   "name": "python",
   "nbconvert_exporter": "python",
   "pygments_lexer": "ipython3",
   "version": "3.8.6"
  },
  "toc": {
   "base_numbering": 1,
   "nav_menu": {},
   "number_sections": false,
   "sideBar": true,
   "skip_h1_title": true,
   "title_cell": "Table of Contents",
   "title_sidebar": "Contents",
   "toc_cell": false,
   "toc_position": {
    "height": "calc(100% - 180px)",
    "left": "10px",
    "top": "150px",
    "width": "320px"
   },
   "toc_section_display": true,
   "toc_window_display": false
  }
 },
 "nbformat": 4,
 "nbformat_minor": 4
}
